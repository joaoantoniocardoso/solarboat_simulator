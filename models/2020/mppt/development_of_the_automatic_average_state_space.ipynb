{
 "cells": [
  {
   "cell_type": "markdown",
   "id": "acf442f2",
   "metadata": {},
   "source": [
    "# Automatic Average State Space"
   ]
  },
  {
   "cell_type": "markdown",
   "id": "940ff6ac",
   "metadata": {},
   "source": [
    "Vamos manipular um Boost, seguindo [essas aulas (22 à 25)](https://www.youtube.com/watch?v=yE2sfU8bIQM&list=PLbMVogVj5nJRY--U9E7dvmqgB9RhGuymk&index=19), partindo da equação de espaço de estados de grandes sinais desenvolvida, e aplicando a metodologia até chegar no modelo médio da equação de espaço de estados."
   ]
  },
  {
   "cell_type": "markdown",
   "id": "90246f36",
   "metadata": {},
   "source": [
    "## Averaged Large Signal Model\n",
    "\n",
    "<!-- TODO: CHEGAR AQUI!!!! -->\n",
    "De alguma forma chegamos em:\n",
    "\n",
    "\\begin{align}\n",
    "    A &= A_{1}\\,d + A_{2}\\,\\left(1 - d\\right) \\\\\n",
    "    B &= B_{1}\\,d + B_{2}\\,\\left(1 - d\\right) \\\\\n",
    "    C &= C_{1}\\,d + C_{2}\\,\\left(1 - d\\right) \\\\\n",
    "    D &= D_{1}\\,d + D_{2}\\,\\left(1 - d\\right) \\\\\n",
    "\\end{align}\n",
    "\n",
    "## Large Signal Models\n",
    "\n",
    "Nossas variáveis temporais de grande sinais - $x(t),y(t),u(t)$ e $d(t)$ (representadas em letras minúsculas) podem ser decompostas em duas partes - a primeira, que representa o regime permanente (escrita em letras maiúsculas), e a segunda, que representa um pequeno sinal (identificadas pelo chapéu). O pequeno sinal é uma variação muito menor em relação ao regime permanente, ficando com:\n",
    "\n",
    "\\begin{align}\n",
    "    u(t) &= U + \\hat{u}(t), \\:\\:\\:\\: \\mid \\hat{u}(t) \\ll U \\\\\n",
    "    x(t) &= X + \\hat{x}(t), \\:\\:\\:\\: \\mid \\hat{x}(t) \\ll X \\\\\n",
    "    y(t) &= Y + \\hat{y}(t), \\:\\:\\:\\: \\mid \\hat{y}(t) \\ll Y \\\\\n",
    "\\end{align}\n",
    "\n",
    "Dessa forma, quando definimos nossas equações no espaço de estados:\n",
    "\n",
    "\\begin{align}\n",
    "    \\dot{x}(t) &= A \\, x(t) + B \\, u(t) \\\\\n",
    "    y(t) &= C \\, x(t) + D \\, u(t)\n",
    "\\end{align}\n",
    "\n",
    "Podemos substituir cada uma das variáveis temporais de grande sinais nas equações de espaço de estados média de grandes sinais, juntamente com as substituição das matrizes de espaço de estados.\n",
    "\n",
    "\\begin{align}\n",
    "    \\dot{X}(t) + \\dot{\\hat{x}}(t) &=\n",
    "        \\left[\n",
    "            A_{1} \\, d(t) + A_{2} \\, \\left( 1 - d(t) \\right)\n",
    "        \\right] \\left( X + \\hat{x}(t) \\right) +\n",
    "        \\left[\n",
    "            B_{1} \\, d(t) + B_{2} \\, \\left( 1 - d(t) \\right)\n",
    "        \\right] \\left( U + \\hat{u}(t) \\right) \\\\\n",
    "    y(t) + \\hat{y}(t) &= C \\, x(t) + D \\, u(t) + \n",
    "        \\left[\n",
    "            C_{1} \\, d(t) + C_{2} \\, \\left( 1 - d(t) \\right)\n",
    "        \\right] \\left( X + \\hat{x}(t) \\right) +\n",
    "        \\left[\n",
    "            D_{1} \\, d(t) + D_{2} \\, \\left(1 - d(t) \\right)\n",
    "        \\right] \\left( U + \\hat{u}(t) \\right)\n",
    "\\end{align}\n",
    "\n",
    "Substituindo $d(t) = \\Delta + \\hat{d}(t)$:\n",
    "<!-- \\left( \\Delta(t) + \\hat{d}(t) \\right) -->\n",
    "\\begin{align}\n",
    "    \\dot{X}(t) + \\dot{\\hat{x}}(t) &=\n",
    "        \\left[\n",
    "            A_{1} \\, \\left( \\Delta(t) + \\hat{d}(t) \\right) + A_{2} \\, \\left( 1 - \\left( \\Delta(t) + \\hat{d}(t) \\right) \\right)\n",
    "        \\right] \\left( X + \\hat{x}(t) \\right) +\n",
    "        \\left[\n",
    "            B_{1} \\, \\left( \\Delta(t) + \\hat{d}(t) \\right) + B_{2} \\, \\left( 1 - \\left( \\Delta(t) + \\hat{d}(t) \\right) \\right)\n",
    "        \\right] \\left( U + \\hat{u}(t) \\right) \\\\\n",
    "    y(t) + \\hat{y}(t) &= C \\, x(t) + D \\, u(t) + \n",
    "        \\left[\n",
    "            C_{1} \\, \\left( \\Delta(t) + \\hat{d}(t) \\right) + C_{2} \\, \\left( 1 - \\left( \\Delta(t) + \\hat{d}(t) \\right) \\right)\n",
    "        \\right] \\left( X + \\hat{x}(t) \\right) +\n",
    "        \\left[\n",
    "            D_{1} \\, \\left( \\Delta(t) + \\hat{d}(t) \\right) + D_{2} \\, \\left(1 - \\left( \\Delta(t) + \\hat{d}(t) \\right) \\right)\n",
    "        \\right] \\left( U + \\hat{u}(t) \\right)\n",
    "\\end{align}\n",
    "\n",
    "\n",
    "\n",
    "Como consequência do sinal de pequenos sinais ser muito menor que o regime permanente, podemos usar uma simplificação (que trará limitações):\n",
    "\n",
    "1. Uma multiplicação entre dois pequenos sinais pode ser desprezado, por exemplo:\n",
    "$$ \\left[ \\hat{x}(t) \\ll X , \\hat{u}(t) \\ll U \\right] \\implies \\hat{x}(t) \\times \\hat{d}(t) = 0 $$\n",
    "\n",
    "2. Uma segunda simplificação pode ser feita - se o regime permanente equilibrado, sua variação pode ser desprezada:\n",
    "$$ \\frac{d{X}(t)}{dt} = 0 \\implies \\dot{X}(t) = A_{k} \\, X + B_{k} \\, U = 0$$\n",
    "\n",
    "Utilizando tais simplificações podemos chegar em:\n",
    "\n",
    "\\begin{align}\n",
    "    \\dot{\\hat{x}}(t) &= A \\, \\hat{x}(t) + B \\, \\hat{u}(t) + \n",
    "        \\left[ \n",
    "            \\left( A_{1} - A_{2} \\right) \\, X +\n",
    "            \\left( B_{1} - B_{2} \\right) \\, U\n",
    "        \\right] \\hat{d}(t) \\\\\n",
    "    \\hat{y}(t) &= C \\, \\hat{x}(t) + D \\, \\hat{u}(t) + \n",
    "        \\left[\n",
    "            \\left( C_{1} \\, - C_{2} \\right) \\, X +\n",
    "            \\left( D_{1} \\, - D_{2} \\right) \\, U\n",
    "        \\right] \\hat{d}(t)\n",
    "\\end{align}"
   ]
  },
  {
   "cell_type": "code",
   "execution_count": 385,
   "id": "8b6248a8",
   "metadata": {},
   "outputs": [
    {
     "data": {
      "text/latex": [
       "$\\displaystyle \\frac{d}{d t} x{\\left(t \\right)} = A \\, x{\\left(t \\right)} + B \\, u{\\left(t \\right)}$"
      ],
      "text/plain": [
       "<IPython.core.display.Math object>"
      ]
     },
     "metadata": {},
     "output_type": "display_data"
    },
    {
     "data": {
      "text/latex": [
       "$\\displaystyle y{\\left(t \\right)} = C \\, x{\\left(t \\right)} + D \\, u{\\left(t \\right)}$"
      ],
      "text/plain": [
       "<IPython.core.display.Math object>"
      ]
     },
     "metadata": {},
     "output_type": "display_data"
    }
   ],
   "source": [
    "import sympy as sym\n",
    "from IPython.display import display, Math\n",
    "\n",
    "sym.init_printing()\n",
    "\n",
    "def print_ss(A, B, C, D, x, y, u):\n",
    "    eq_states = sym.latex(sym.simplify(x.diff(t)))\n",
    "    eq_states += \" = \" + sym.latex(sym.simplify(A))\n",
    "    eq_states += \" \\, \" + sym.latex(sym.simplify(x))\n",
    "    eq_states += \" + \" + sym.latex(sym.simplify(B))\n",
    "    eq_states += \" \\, \" + sym.latex(sym.simplify(u))\n",
    "    \n",
    "    eq_outputs = sym.latex(sym.simplify(y))\n",
    "    eq_outputs += \" = \" + sym.latex(sym.simplify(C))\n",
    "    eq_outputs += \" \\, \" + sym.latex(sym.simplify(x))\n",
    "    eq_outputs += \" + \" + sym.latex(sym.simplify(D))\n",
    "    eq_outputs += \" \\, \" + sym.latex(sym.simplify(u))\n",
    "    \n",
    "    display(Math(eq_states))\n",
    "    display(Math(eq_outputs))\n",
    "\n",
    "# Variables\n",
    "t = sym.symbols('t', constant=False, positive=True, finite=True);\n",
    "\n",
    "# Space state dummy functions\n",
    "x = sym.Function('x', finite=True)(t)  # states\n",
    "y = sym.Function('y', finite=True)(t)  # output\n",
    "u = sym.Function('u', finite=True)(t)  # inputs\n",
    "\n",
    "# Space states dummy matrix variables\n",
    "A, B, C, D = sym.symbols('A B C D', constant=True, commutative=False)\n",
    "\n",
    "# Dummy standard space states equations\n",
    "print_ss(A, B, C, D, x, y, u)"
   ]
  },
  {
   "cell_type": "code",
   "execution_count": 386,
   "id": "5fdfe0f2",
   "metadata": {},
   "outputs": [
    {
     "name": "stdout",
     "output_type": "stream",
     "text": [
      "For the first state (swtich is ON):\n"
     ]
    },
    {
     "data": {
      "text/latex": [
       "$\\displaystyle \\left[\\begin{matrix}\\frac{d}{d t} \\operatorname{i_{L}}{\\left(t \\right)}\\\\\\frac{d}{d t} \\operatorname{v_{C}}{\\left(t \\right)}\\end{matrix}\\right] = \\left[\\begin{matrix}0 & 0\\\\0 & - \\frac{1}{C R}\\end{matrix}\\right] \\, \\left[\\begin{matrix}\\operatorname{i_{L}}{\\left(t \\right)}\\\\\\operatorname{v_{C}}{\\left(t \\right)}\\end{matrix}\\right] + \\left[\\begin{matrix}\\frac{1}{L} & 0\\\\0 & - \\frac{1}{C}\\end{matrix}\\right] \\, \\left[\\begin{matrix}\\operatorname{v_{i}}{\\left(t \\right)}\\\\\\operatorname{i_{o}}{\\left(t \\right)}\\end{matrix}\\right]$"
      ],
      "text/plain": [
       "<IPython.core.display.Math object>"
      ]
     },
     "metadata": {},
     "output_type": "display_data"
    },
    {
     "data": {
      "text/latex": [
       "$\\displaystyle \\left[\\begin{matrix}\\operatorname{v_{o}}{\\left(t \\right)}\\\\\\operatorname{i_{i}}{\\left(t \\right)}\\end{matrix}\\right] = \\left[\\begin{matrix}0 & 1\\\\1 & 0\\end{matrix}\\right] \\, \\left[\\begin{matrix}\\operatorname{i_{L}}{\\left(t \\right)}\\\\\\operatorname{v_{C}}{\\left(t \\right)}\\end{matrix}\\right] + \\left[\\begin{matrix}0 & 0\\\\0 & 0\\end{matrix}\\right] \\, \\left[\\begin{matrix}\\operatorname{v_{i}}{\\left(t \\right)}\\\\\\operatorname{i_{o}}{\\left(t \\right)}\\end{matrix}\\right]$"
      ],
      "text/plain": [
       "<IPython.core.display.Math object>"
      ]
     },
     "metadata": {},
     "output_type": "display_data"
    },
    {
     "name": "stdout",
     "output_type": "stream",
     "text": [
      "For the second state (switch is OFF):\n"
     ]
    },
    {
     "data": {
      "text/latex": [
       "$\\displaystyle \\left[\\begin{matrix}\\frac{d}{d t} \\operatorname{i_{L}}{\\left(t \\right)}\\\\\\frac{d}{d t} \\operatorname{v_{C}}{\\left(t \\right)}\\end{matrix}\\right] = \\left[\\begin{matrix}0 & - \\frac{1}{L}\\\\\\frac{1}{C} & - \\frac{1}{C R}\\end{matrix}\\right] \\, \\left[\\begin{matrix}\\operatorname{i_{L}}{\\left(t \\right)}\\\\\\operatorname{v_{C}}{\\left(t \\right)}\\end{matrix}\\right] + \\left[\\begin{matrix}\\frac{1}{L} & 0\\\\0 & - \\frac{1}{C}\\end{matrix}\\right] \\, \\left[\\begin{matrix}\\operatorname{v_{i}}{\\left(t \\right)}\\\\\\operatorname{i_{o}}{\\left(t \\right)}\\end{matrix}\\right]$"
      ],
      "text/plain": [
       "<IPython.core.display.Math object>"
      ]
     },
     "metadata": {},
     "output_type": "display_data"
    },
    {
     "data": {
      "text/latex": [
       "$\\displaystyle \\left[\\begin{matrix}\\operatorname{v_{o}}{\\left(t \\right)}\\\\\\operatorname{i_{i}}{\\left(t \\right)}\\end{matrix}\\right] = \\left[\\begin{matrix}0 & 1\\\\1 & 0\\end{matrix}\\right] \\, \\left[\\begin{matrix}\\operatorname{i_{L}}{\\left(t \\right)}\\\\\\operatorname{v_{C}}{\\left(t \\right)}\\end{matrix}\\right] + \\left[\\begin{matrix}0 & 0\\\\0 & 0\\end{matrix}\\right] \\, \\left[\\begin{matrix}\\operatorname{v_{i}}{\\left(t \\right)}\\\\\\operatorname{i_{o}}{\\left(t \\right)}\\end{matrix}\\right]$"
      ],
      "text/plain": [
       "<IPython.core.display.Math object>"
      ]
     },
     "metadata": {},
     "output_type": "display_data"
    }
   ],
   "source": [
    "# Functions\n",
    "v_i = sym.Function('v_{i}', constante=False, finite=True)(t)\n",
    "v_o = sym.Function('v_{o}', constante=False, finite=True)(t)\n",
    "v_c = sym.Function('v_{C}', constante=False, finite=True)(t)\n",
    "i_o = sym.Function('i_{o}', constante=False, finite=True)(t)\n",
    "i_i = sym.Function('i_{i}', constante=False, finite=True)(t)\n",
    "i_l = sym.Function('i_{L}', constante=False, finite=True)(t)\n",
    "\n",
    "# Constants\n",
    "R, C, L = sym.symbols('R C L', positive=True, constant=True)\n",
    "\n",
    "# States, shape 'nx1' -> '2x1'\n",
    "x = sym.Matrix([\n",
    "    [i_l],\n",
    "    [v_c],\n",
    "])\n",
    "# Inputs, shape 'mx1' -> '2x1'\n",
    "u = sym.Matrix([\n",
    "    [v_i],\n",
    "    [i_o],\n",
    "])\n",
    "# Outputs, shape 'px1' -> '2x1'\n",
    "y = sym.Matrix([\n",
    "    [v_o],\n",
    "    [i_i],\n",
    "])\n",
    "\n",
    "## STATE 1: MOSFET IS ON\n",
    "# State Transition matrix, shape 'n,n' -> '2x2'\n",
    "A1 = sym.Matrix([\n",
    "    [0, 0           ],\n",
    "    [0, -1 / (R * C)],\n",
    "])\n",
    "# Input matrix, shape 'n,m' -> '2x2'\n",
    "B1 = sym.Matrix([\n",
    "    [1 / L, 0     ],\n",
    "    [0,     -1 / C],\n",
    "])\n",
    "# Output matrix, shape 'p,n' -> '2x2'\n",
    "C1 = sym.Matrix([\n",
    "    [0, 1],\n",
    "    [1, 0],\n",
    "])\n",
    "# Remaining matrix, shape 'p,m' -> '2x2'\n",
    "D1 = sym.Matrix([\n",
    "    [0, 0],\n",
    "    [0, 0],\n",
    "])\n",
    "\n",
    "## STATE 2: MOSFET IS OFF\n",
    "# State Transition matrix, shape 'n,n' -> '2x2'\n",
    "A2 = sym.Matrix([\n",
    "    [0,   -1 / L      ],\n",
    "    [1/C, -1 / (R * C)],\n",
    "])\n",
    "# Input matrix, shape 'n,m' -> '2x2'\n",
    "B2 = sym.Matrix([\n",
    "    [1 / L, 0     ],\n",
    "    [0,     -1 / C],\n",
    "])\n",
    "# Output matrix, shape 'p,n' -> '2x2'\n",
    "C2 = C1\n",
    "# Remaining matrix, shape 'p,m' -> '2x2'\n",
    "D2 = D1\n",
    "\n",
    "\n",
    "# Display the equations\n",
    "print(\"For the first state (swtich is ON):\")\n",
    "print_ss(A1, B1, C1, D1, x, y, u)\n",
    "print(\"For the second state (switch is OFF):\")\n",
    "print_ss(A2, B2, C2, D2, x, y, u)"
   ]
  },
  {
   "cell_type": "markdown",
   "id": "64d03189",
   "metadata": {},
   "source": [
    "## Averaged Large Signal Model"
   ]
  },
  {
   "cell_type": "code",
   "execution_count": 387,
   "id": "c4f772f7",
   "metadata": {},
   "outputs": [
    {
     "name": "stdout",
     "output_type": "stream",
     "text": [
      "By weightening the subsystems's $A, B, C, D$ equations with its correspondent periods (which can be written as $D$ and $(1 - D)$ because of our PWM modulation), we have the Averaged Large Signal Model\n"
     ]
    },
    {
     "data": {
      "text/latex": [
       "$\\displaystyle \\left[\\begin{matrix}\\frac{d}{d t} \\operatorname{i_{L}}{\\left(t \\right)}\\\\\\frac{d}{d t} \\operatorname{v_{C}}{\\left(t \\right)}\\end{matrix}\\right] = \\left[\\begin{matrix}0 & \\frac{d{\\left(t \\right)} - 1}{L}\\\\\\frac{1 - d{\\left(t \\right)}}{C} & - \\frac{1}{C R}\\end{matrix}\\right] \\, \\left[\\begin{matrix}\\operatorname{i_{L}}{\\left(t \\right)}\\\\\\operatorname{v_{C}}{\\left(t \\right)}\\end{matrix}\\right] + \\left[\\begin{matrix}\\frac{1}{L} & 0\\\\0 & - \\frac{1}{C}\\end{matrix}\\right] \\, \\left[\\begin{matrix}\\operatorname{v_{i}}{\\left(t \\right)}\\\\\\operatorname{i_{o}}{\\left(t \\right)}\\end{matrix}\\right]$"
      ],
      "text/plain": [
       "<IPython.core.display.Math object>"
      ]
     },
     "metadata": {},
     "output_type": "display_data"
    },
    {
     "data": {
      "text/latex": [
       "$\\displaystyle \\left[\\begin{matrix}\\operatorname{v_{o}}{\\left(t \\right)}\\\\\\operatorname{i_{i}}{\\left(t \\right)}\\end{matrix}\\right] = \\left[\\begin{matrix}0 & 1\\\\1 & 0\\end{matrix}\\right] \\, \\left[\\begin{matrix}\\operatorname{i_{L}}{\\left(t \\right)}\\\\\\operatorname{v_{C}}{\\left(t \\right)}\\end{matrix}\\right] + \\left[\\begin{matrix}0 & 0\\\\0 & 0\\end{matrix}\\right] \\, \\left[\\begin{matrix}\\operatorname{v_{i}}{\\left(t \\right)}\\\\\\operatorname{i_{o}}{\\left(t \\right)}\\end{matrix}\\right]$"
      ],
      "text/plain": [
       "<IPython.core.display.Math object>"
      ]
     },
     "metadata": {},
     "output_type": "display_data"
    },
    {
     "name": "stdout",
     "output_type": "stream",
     "text": [
      "By defining the large signal as a sum of the small-signal with the steady-state:\n"
     ]
    },
    {
     "data": {
      "image/png": "[encoded data removed]",
      "text/latex": [
       "$\\displaystyle \\left[\\begin{matrix}\\operatorname{i_{L}}{\\left(t \\right)}\\\\\\operatorname{v_{C}}{\\left(t \\right)}\\end{matrix}\\right] = \\left[\\begin{matrix}\\operatorname{I_{L}}{\\left(t \\right)} + \\hat{i}_{L}{\\left(t \\right)}\\\\\\operatorname{V_{C}}{\\left(t \\right)} + \\hat{v}_{C}{\\left(t \\right)}\\end{matrix}\\right]$"
      ],
      "text/plain": [
       "⎡i_{L}(t)⎤   ⎡I_{L}(t) + \\hat{i}_{L}(t)⎤\n",
       "⎢        ⎥ = ⎢                         ⎥\n",
       "⎣v_{C}(t)⎦   ⎣V_{C}(t) + \\hat{v}_{C}(t)⎦"
      ]
     },
     "metadata": {},
     "output_type": "display_data"
    },
    {
     "data": {
      "image/png": "[encoded data removed]",
      "text/latex": [
       "$\\displaystyle \\left[\\begin{matrix}\\operatorname{v_{o}}{\\left(t \\right)}\\\\\\operatorname{i_{i}}{\\left(t \\right)}\\end{matrix}\\right] = \\left[\\begin{matrix}\\operatorname{V_{o}}{\\left(t \\right)} + \\hat{v}_{o}{\\left(t \\right)}\\\\\\operatorname{I_{i}}{\\left(t \\right)} + \\hat{i}_{i}{\\left(t \\right)}\\end{matrix}\\right]$"
      ],
      "text/plain": [
       "⎡v_{o}(t)⎤   ⎡V_{o}(t) + \\hat{v}_{o}(t)⎤\n",
       "⎢        ⎥ = ⎢                         ⎥\n",
       "⎣i_{i}(t)⎦   ⎣I_{i}(t) + \\hat{i}_{i}(t)⎦"
      ]
     },
     "metadata": {},
     "output_type": "display_data"
    },
    {
     "data": {
      "image/png": "[encoded data removed]",
      "text/latex": [
       "$\\displaystyle \\left[\\begin{matrix}\\operatorname{v_{i}}{\\left(t \\right)}\\\\\\operatorname{i_{o}}{\\left(t \\right)}\\end{matrix}\\right] = \\left[\\begin{matrix}\\operatorname{V_{i}}{\\left(t \\right)} + \\hat{v}_{i}{\\left(t \\right)}\\\\\\operatorname{I_{o}}{\\left(t \\right)} + \\hat{i}_{o}{\\left(t \\right)}\\end{matrix}\\right]$"
      ],
      "text/plain": [
       "⎡v_{i}(t)⎤   ⎡V_{i}(t) + \\hat{v}_{i}(t)⎤\n",
       "⎢        ⎥ = ⎢                         ⎥\n",
       "⎣i_{o}(t)⎦   ⎣I_{o}(t) + \\hat{i}_{o}(t)⎦"
      ]
     },
     "metadata": {},
     "output_type": "display_data"
    },
    {
     "data": {
      "image/png": "[encoded data removed]",
      "text/latex": [
       "$\\displaystyle \\left[\\begin{matrix}\\frac{d}{d t} \\operatorname{i_{L}}{\\left(t \\right)}\\\\\\frac{d}{d t} \\operatorname{v_{C}}{\\left(t \\right)}\\end{matrix}\\right] = \\left[\\begin{matrix}\\frac{d}{d t} \\operatorname{I_{L}}{\\left(t \\right)} + \\frac{d}{d t} \\hat{i}_{L}{\\left(t \\right)}\\\\\\frac{d}{d t} \\operatorname{V_{C}}{\\left(t \\right)} + \\frac{d}{d t} \\hat{v}_{C}{\\left(t \\right)}\\end{matrix}\\right]$"
      ],
      "text/plain": [
       "⎡d           ⎤   ⎡d              d                 ⎤\n",
       "⎢──(i_{L}(t))⎥   ⎢──(I_{L}(t)) + ──(\\hat{i}_{L}(t))⎥\n",
       "⎢dt          ⎥   ⎢dt             dt                ⎥\n",
       "⎢            ⎥ = ⎢                                 ⎥\n",
       "⎢d           ⎥   ⎢d              d                 ⎥\n",
       "⎢──(v_{C}(t))⎥   ⎢──(V_{C}(t)) + ──(\\hat{v}_{C}(t))⎥\n",
       "⎣dt          ⎦   ⎣dt             dt                ⎦"
      ]
     },
     "metadata": {},
     "output_type": "display_data"
    },
    {
     "data": {
      "image/png": "[encoded data removed]",
      "text/latex": [
       "$\\displaystyle d{\\left(t \\right)} = \\Delta{\\left(t \\right)} + \\hat{d}{\\left(t \\right)}$"
      ],
      "text/plain": [
       "d(t) = \\Delta(t) + \\hat{d}(t)"
      ]
     },
     "metadata": {},
     "output_type": "display_data"
    },
    {
     "name": "stdout",
     "output_type": "stream",
     "text": [
      "We end up with:\n"
     ]
    },
    {
     "data": {
      "text/latex": [
       "$\\displaystyle \\left[\\begin{matrix}\\frac{d}{d t} \\operatorname{I_{L}}{\\left(t \\right)} + \\frac{d}{d t} \\hat{i}_{L}{\\left(t \\right)}\\\\\\frac{d}{d t} \\operatorname{V_{C}}{\\left(t \\right)} + \\frac{d}{d t} \\hat{v}_{C}{\\left(t \\right)}\\end{matrix}\\right] = \\left[\\begin{matrix}0 & \\frac{\\Delta{\\left(t \\right)} + \\hat{d}{\\left(t \\right)} - 1}{L}\\\\\\frac{- \\Delta{\\left(t \\right)} - \\hat{d}{\\left(t \\right)} + 1}{C} & - \\frac{1}{C R}\\end{matrix}\\right] \\, \\left[\\begin{matrix}\\operatorname{I_{L}}{\\left(t \\right)} + \\hat{i}_{L}{\\left(t \\right)}\\\\\\operatorname{V_{C}}{\\left(t \\right)} + \\hat{v}_{C}{\\left(t \\right)}\\end{matrix}\\right] + \\left[\\begin{matrix}\\frac{1}{L} & 0\\\\0 & - \\frac{1}{C}\\end{matrix}\\right] \\, \\left[\\begin{matrix}\\operatorname{V_{i}}{\\left(t \\right)} + \\hat{v}_{i}{\\left(t \\right)}\\\\\\operatorname{I_{o}}{\\left(t \\right)} + \\hat{i}_{o}{\\left(t \\right)}\\end{matrix}\\right]$"
      ],
      "text/plain": [
       "<IPython.core.display.Math object>"
      ]
     },
     "metadata": {},
     "output_type": "display_data"
    },
    {
     "data": {
      "text/latex": [
       "$\\displaystyle \\left[\\begin{matrix}\\operatorname{V_{o}}{\\left(t \\right)} + \\hat{v}_{o}{\\left(t \\right)}\\\\\\operatorname{I_{i}}{\\left(t \\right)} + \\hat{i}_{i}{\\left(t \\right)}\\end{matrix}\\right] = \\left[\\begin{matrix}0 & 1\\\\1 & 0\\end{matrix}\\right] \\, \\left[\\begin{matrix}\\operatorname{I_{L}}{\\left(t \\right)} + \\hat{i}_{L}{\\left(t \\right)}\\\\\\operatorname{V_{C}}{\\left(t \\right)} + \\hat{v}_{C}{\\left(t \\right)}\\end{matrix}\\right] + \\left[\\begin{matrix}0 & 0\\\\0 & 0\\end{matrix}\\right] \\, \\left[\\begin{matrix}\\operatorname{V_{i}}{\\left(t \\right)} + \\hat{v}_{i}{\\left(t \\right)}\\\\\\operatorname{I_{o}}{\\left(t \\right)} + \\hat{i}_{o}{\\left(t \\right)}\\end{matrix}\\right]$"
      ],
      "text/plain": [
       "<IPython.core.display.Math object>"
      ]
     },
     "metadata": {},
     "output_type": "display_data"
    }
   ],
   "source": [
    "print(\"By weightening the subsystems's $A, B, C, D$ equations with its correspondent periods \"\n",
    "      \"(which can be written as $D$ and $(1 - D)$ because of our PWM modulation), \"\n",
    "      \"we have the Averaged Large Signal Model\")\n",
    "dt = sym.Function('d')(t)\n",
    "\n",
    "def get_averaged_large_signal_model(A1, B1, C1, D1, A2, B2, C2, D2, x, y, u, dt):\n",
    "    A = A1 * (dt) + A2 * (1 - dt)\n",
    "    B = B1 * (dt) + B2 * (1 - dt)\n",
    "    C = C1 * (dt) + C2 * (1 - dt)\n",
    "    D = D1 * (dt) + D2 * (1 - dt)\n",
    "    return A, B, C, D, x, y, u\n",
    "\n",
    "A, B, C, D, x, y, u = get_averaged_large_signal_model(A1, B1, C1, D1, A2, B2, C2, D2, x, y, u, dt)\n",
    "\n",
    "print_ss(A, B, C, D, x, y, u)\n",
    "\n",
    "# large-signal\n",
    "dx = x.diff(t)\n",
    "\n",
    "# Steady-state, let's consider it not constant, just to not be zeroed when differentiated.\n",
    "V_i = sym.Function('V_{i}', constant=False, finite=True)(t)\n",
    "V_o = sym.Function('V_{o}', constant=False, finite=True)(t)\n",
    "V_c = sym.Function('V_{C}', constant=False, finite=True)(t)\n",
    "I_o = sym.Function('I_{o}', constant=False, finite=True)(t)\n",
    "I_i = sym.Function('I_{i}', constant=False, finite=True)(t)\n",
    "I_l = sym.Function('I_{L}', constant=False, finite=True)(t)\n",
    "Dt = sym.Function('\\Delta', constant=False, finite=True)(t)\n",
    "subs = {\n",
    "    v_i: V_i,\n",
    "    v_o: V_o,\n",
    "    v_c: V_c,\n",
    "    i_o: I_o,\n",
    "    i_i: I_i,\n",
    "    i_l: I_l,\n",
    "    dt: Dt,\n",
    "}\n",
    "X = x.subs(subs)\n",
    "Y = y.subs(subs)\n",
    "U = u.subs(subs)\n",
    "dX = X.diff(t)\n",
    "\n",
    "# small-signal\n",
    "hv_i = sym.Function('\\hat{v}_{i}', finite=True)(t)\n",
    "hv_o = sym.Function('\\hat{v}_{o}', finite=True)(t)\n",
    "hv_c = sym.Function('\\hat{v}_{C}', finite=True)(t)\n",
    "hi_o = sym.Function('\\hat{i}_{o}', finite=True)(t)\n",
    "hi_i = sym.Function('\\hat{i}_{i}', finite=True)(t)\n",
    "hi_l = sym.Function('\\hat{i}_{L}', finite=True)(t)\n",
    "hdt = sym.Function('\\hat{d}', finite=True)(t)\n",
    "hsubs = {\n",
    "    v_i: hv_i,\n",
    "    v_o: hv_o,\n",
    "    v_c: hv_c,\n",
    "    i_o: hi_o,\n",
    "    i_i: hi_i,\n",
    "    i_l: hi_l,\n",
    "    dt: hdt,\n",
    "}\n",
    "hx = x.subs(hsubs)\n",
    "hy = y.subs(hsubs)\n",
    "hu = u.subs(hsubs)\n",
    "hdx = hx.diff(t)\n",
    "\n",
    "eq_x = sym.Eq(x, X + hx)\n",
    "eq_y = sym.Eq(y, Y + hy)\n",
    "eq_u = sym.Eq(u, U + hu)\n",
    "eq_dx = sym.Eq(dx, dX + hdx)\n",
    "eq_dt = sym.Eq(dt, Dt + hdt)\n",
    "\n",
    "A = A.subs({dt: eq_dt.rhs})\n",
    "B = B.subs({dt: eq_dt.rhs})\n",
    "C = C.subs({dt: eq_dt.rhs})\n",
    "D = D.subs({dt: eq_dt.rhs})\n",
    "\n",
    "print(\"By defining the large signal as a sum of the small-signal with the steady-state:\")\n",
    "\n",
    "display(eq_x)\n",
    "display(eq_y)\n",
    "display(eq_u)\n",
    "display(eq_dx)\n",
    "display(eq_dt)\n",
    "\n",
    "print(\"We end up with:\")\n",
    "print_ss(A, B, C, D, eq_x.rhs, eq_y.rhs, eq_u.rhs)"
   ]
  },
  {
   "cell_type": "markdown",
   "id": "132361b7",
   "metadata": {},
   "source": [
    "## Steady State Model\n",
    "Para termos o modelo de regime permanente, substituímos as equações de grandes sinais no modelo de grandes sinais, e considerando que em regime permanente as variações são despresíveis, simplificamos o modelo até ficarmos apenas com simples relações entre constantes.\n",
    "\n",
    "Substituímos as equações de grande sinais:\n",
    "\\begin{align}\n",
    "    u(t) &= U + \\hat{u}(t), \\:\\:\\:\\: \\mid \\hat{u}(t) \\ll U \\\\\n",
    "    x(t) &= X + \\hat{x}(t), \\:\\:\\:\\: \\mid \\hat{x}(t) \\ll X \\\\\n",
    "    y(t) &= Y + \\hat{y}(t), \\:\\:\\:\\: \\mid \\hat{y}(t) \\ll Y \\\\\n",
    "\\end{align}\n",
    "\n",
    "No modelo de grandes sinais:\n",
    "\\begin{align}\n",
    "    \\dot{x}(t) &= A \\, x(t) + B \\, u(t) \\\\\n",
    "    y(t) &= C \\, x(t) + D \\, u(t)\n",
    "\\end{align}\n",
    "\n",
    "Considerando que a variação do sinal dos estados pode ser despresada em regime permanente:\n",
    "$$ \\frac{d{X}(t)}{dt} = 0 \\implies \\dot{X}(t) = A_{k} \\, X + B_{k} \\, U = 0$$\n",
    "\n",
    "Resolvendo para $X$:\n",
    "$$ X = -A^{-1} B U $$\n",
    "\n",
    "E substituindo em $Y$, finalmente chegamos em:\n",
    "$$ Y = C \\left[ -A^{-1} B U \\right] + D U $$\n",
    "\n",
    "\n",
    "Que pode ser trabalhado para encontrar quaisquer relações de regime permanente."
   ]
  },
  {
   "cell_type": "code",
   "execution_count": 410,
   "id": "b928327e",
   "metadata": {},
   "outputs": [
    {
     "name": "stdout",
     "output_type": "stream",
     "text": [
      "Recapitulating, the Averaged Large-signal model is:\n"
     ]
    },
    {
     "data": {
      "text/latex": [
       "$\\displaystyle \\left[\\begin{matrix}\\frac{d}{d t} \\hat{i}_{L}{\\left(t \\right)}\\\\\\frac{d}{d t} \\hat{v}_{C}{\\left(t \\right)}\\end{matrix}\\right] = \\left[\\begin{matrix}0 & \\frac{d{\\left(t \\right)} - 1}{L}\\\\\\frac{1 - d{\\left(t \\right)}}{C} & - \\frac{1}{C R}\\end{matrix}\\right] \\, \\left[\\begin{matrix}I_{L} + \\hat{i}_{L}{\\left(t \\right)}\\\\V_{C} + \\hat{v}_{C}{\\left(t \\right)}\\end{matrix}\\right] + \\left[\\begin{matrix}\\frac{1}{L} & 0\\\\0 & - \\frac{1}{C}\\end{matrix}\\right] \\, \\left[\\begin{matrix}V_{i} + \\hat{v}_{i}{\\left(t \\right)}\\\\I_{o} + \\hat{i}_{o}{\\left(t \\right)}\\end{matrix}\\right]$"
      ],
      "text/plain": [
       "<IPython.core.display.Math object>"
      ]
     },
     "metadata": {},
     "output_type": "display_data"
    },
    {
     "data": {
      "text/latex": [
       "$\\displaystyle \\left[\\begin{matrix}V_{o} + \\hat{v}_{o}{\\left(t \\right)}\\\\I_{i} + \\hat{i}_{i}{\\left(t \\right)}\\end{matrix}\\right] = \\left[\\begin{matrix}0 & 1\\\\1 & 0\\end{matrix}\\right] \\, \\left[\\begin{matrix}I_{L} + \\hat{i}_{L}{\\left(t \\right)}\\\\V_{C} + \\hat{v}_{C}{\\left(t \\right)}\\end{matrix}\\right] + \\left[\\begin{matrix}0 & 0\\\\0 & 0\\end{matrix}\\right] \\, \\left[\\begin{matrix}V_{i} + \\hat{v}_{i}{\\left(t \\right)}\\\\I_{o} + \\hat{i}_{o}{\\left(t \\right)}\\end{matrix}\\right]$"
      ],
      "text/plain": [
       "<IPython.core.display.Math object>"
      ]
     },
     "metadata": {},
     "output_type": "display_data"
    },
    {
     "name": "stdout",
     "output_type": "stream",
     "text": [
      "If we consider that all steady-state functions are constants, it's derivatives are zero, so:\n"
     ]
    },
    {
     "data": {
      "text/latex": [
       "$\\displaystyle \\left[\\begin{matrix}\\frac{d}{d t} \\hat{i}_{L}{\\left(t \\right)}\\\\\\frac{d}{d t} \\hat{v}_{C}{\\left(t \\right)}\\end{matrix}\\right] = \\left[\\begin{matrix}0 & \\frac{\\Delta + \\hat{d}{\\left(t \\right)} - 1}{L}\\\\\\frac{- \\Delta - \\hat{d}{\\left(t \\right)} + 1}{C} & - \\frac{1}{C R}\\end{matrix}\\right] \\, \\left[\\begin{matrix}I_{L} + \\hat{i}_{L}{\\left(t \\right)}\\\\V_{C} + \\hat{v}_{C}{\\left(t \\right)}\\end{matrix}\\right] + \\left[\\begin{matrix}\\frac{1}{L} & 0\\\\0 & - \\frac{1}{C}\\end{matrix}\\right] \\, \\left[\\begin{matrix}V_{i} + \\hat{v}_{i}{\\left(t \\right)}\\\\I_{o} + \\hat{i}_{o}{\\left(t \\right)}\\end{matrix}\\right]$"
      ],
      "text/plain": [
       "<IPython.core.display.Math object>"
      ]
     },
     "metadata": {},
     "output_type": "display_data"
    },
    {
     "data": {
      "text/latex": [
       "$\\displaystyle \\left[\\begin{matrix}V_{o} + \\hat{v}_{o}{\\left(t \\right)}\\\\I_{i} + \\hat{i}_{i}{\\left(t \\right)}\\end{matrix}\\right] = \\left[\\begin{matrix}0 & 1\\\\1 & 0\\end{matrix}\\right] \\, \\left[\\begin{matrix}I_{L} + \\hat{i}_{L}{\\left(t \\right)}\\\\V_{C} + \\hat{v}_{C}{\\left(t \\right)}\\end{matrix}\\right] + \\left[\\begin{matrix}0 & 0\\\\0 & 0\\end{matrix}\\right] \\, \\left[\\begin{matrix}V_{i} + \\hat{v}_{i}{\\left(t \\right)}\\\\I_{o} + \\hat{i}_{o}{\\left(t \\right)}\\end{matrix}\\right]$"
      ],
      "text/plain": [
       "<IPython.core.display.Math object>"
      ]
     },
     "metadata": {},
     "output_type": "display_data"
    },
    {
     "name": "stdout",
     "output_type": "stream",
     "text": [
      "And if we are considering the steady state, all small-signals can be neglected:\n"
     ]
    },
    {
     "data": {
      "text/latex": [
       "$\\displaystyle \\left[\\begin{matrix}0\\\\0\\end{matrix}\\right] = \\left[\\begin{matrix}0 & \\frac{\\Delta - 1}{L}\\\\\\frac{1 - \\Delta}{C} & - \\frac{1}{C R}\\end{matrix}\\right] \\, \\left[\\begin{matrix}I_{L}\\\\V_{C}\\end{matrix}\\right] + \\left[\\begin{matrix}\\frac{1}{L} & 0\\\\0 & - \\frac{1}{C}\\end{matrix}\\right] \\, \\left[\\begin{matrix}V_{i}\\\\I_{o}\\end{matrix}\\right]$"
      ],
      "text/plain": [
       "<IPython.core.display.Math object>"
      ]
     },
     "metadata": {},
     "output_type": "display_data"
    },
    {
     "data": {
      "text/latex": [
       "$\\displaystyle \\left[\\begin{matrix}V_{o}\\\\I_{i}\\end{matrix}\\right] = \\left[\\begin{matrix}0 & 1\\\\1 & 0\\end{matrix}\\right] \\, \\left[\\begin{matrix}I_{L}\\\\V_{C}\\end{matrix}\\right] + \\left[\\begin{matrix}0 & 0\\\\0 & 0\\end{matrix}\\right] \\, \\left[\\begin{matrix}V_{i}\\\\I_{o}\\end{matrix}\\right]$"
      ],
      "text/plain": [
       "<IPython.core.display.Math object>"
      ]
     },
     "metadata": {},
     "output_type": "display_data"
    },
    {
     "name": "stdout",
     "output_type": "stream",
     "text": [
      "Than we solve the states equation for X and substitute it in the outputs equation:\n"
     ]
    },
    {
     "data": {
      "text/latex": [
       "$\\displaystyle X = -A^{-1} B U$"
      ],
      "text/plain": [
       "<IPython.core.display.Math object>"
      ]
     },
     "metadata": {},
     "output_type": "display_data"
    },
    {
     "data": {
      "text/latex": [
       "$\\displaystyle \\left[\\begin{matrix}I_{L}\\\\V_{C}\\end{matrix}\\right] = -\\left[\\begin{matrix}0 & - \\frac{1 - \\Delta}{L}\\\\\\frac{1 - \\Delta}{C} & - \\frac{\\Delta}{C R} - \\frac{1 - \\Delta}{C R}\\end{matrix}\\right]^{-1} \\, \\left[\\begin{matrix}\\frac{\\Delta}{L} + \\frac{1 - \\Delta}{L} & 0\\\\0 & - \\frac{\\Delta}{C} - \\frac{1 - \\Delta}{C}\\end{matrix}\\right] \\, \\left[\\begin{matrix}V_{i}\\\\I_{o}\\end{matrix}\\right]$"
      ],
      "text/plain": [
       "<IPython.core.display.Math object>"
      ]
     },
     "metadata": {},
     "output_type": "display_data"
    },
    {
     "data": {
      "text/latex": [
       "$\\displaystyle \\left[\\begin{matrix}I_{L}\\\\V_{C}\\end{matrix}\\right] = \\left[\\begin{matrix}\\frac{L}{R \\Delta^{2} - 2 R \\Delta + R} & \\frac{C}{\\Delta - 1}\\\\\\frac{L}{1 - \\Delta} & 0\\end{matrix}\\right] \\, \\left[\\begin{matrix}\\frac{\\Delta}{L} + \\frac{1 - \\Delta}{L} & 0\\\\0 & - \\frac{\\Delta}{C} - \\frac{1 - \\Delta}{C}\\end{matrix}\\right] \\, \\left[\\begin{matrix}V_{i}\\\\I_{o}\\end{matrix}\\right]$"
      ],
      "text/plain": [
       "<IPython.core.display.Math object>"
      ]
     },
     "metadata": {},
     "output_type": "display_data"
    },
    {
     "data": {
      "text/latex": [
       "$\\displaystyle \\left[\\begin{matrix}I_{L}\\\\V_{C}\\end{matrix}\\right] = \\left[\\begin{matrix}\\frac{1}{R \\Delta^{2} - 2 R \\Delta + R} & - \\frac{1}{\\Delta - 1}\\\\\\frac{1}{1 - \\Delta} & 0\\end{matrix}\\right] \\, \\left[\\begin{matrix}V_{i}\\\\I_{o}\\end{matrix}\\right]$"
      ],
      "text/plain": [
       "<IPython.core.display.Math object>"
      ]
     },
     "metadata": {},
     "output_type": "display_data"
    },
    {
     "data": {
      "image/png": "[encoded data removed]",
      "text/latex": [
       "$\\displaystyle \\left[\\begin{matrix}I_{L}\\\\V_{C}\\end{matrix}\\right] = \\left[\\begin{matrix}\\frac{- I_{o} R \\Delta + I_{o} R + V_{i}}{R \\left(\\Delta^{2} - 2 \\Delta + 1\\right)}\\\\- \\frac{V_{i}}{\\Delta - 1}\\end{matrix}\\right]$"
      ],
      "text/plain": [
       "          ⎡-I_{o}⋅R⋅\\Delta + I_{o}⋅R + V_{i}⎤\n",
       "          ⎢─────────────────────────────────⎥\n",
       "          ⎢      ⎛      2               ⎞   ⎥\n",
       "⎡I_{L}⎤   ⎢    R⋅⎝\\Delta  - 2⋅\\Delta + 1⎠   ⎥\n",
       "⎢     ⎥ = ⎢                                 ⎥\n",
       "⎣V_{C}⎦   ⎢            -V_{i}               ⎥\n",
       "          ⎢           ──────────            ⎥\n",
       "          ⎣           \\Delta - 1            ⎦"
      ]
     },
     "metadata": {},
     "output_type": "display_data"
    },
    {
     "name": "stdout",
     "output_type": "stream",
     "text": [
      "The outputs equation:\n"
     ]
    },
    {
     "data": {
      "text/latex": [
       "$\\displaystyle Y = C X + D U = C \\left[ -A^{-1} B U \\right] + D U $"
      ],
      "text/plain": [
       "<IPython.core.display.Math object>"
      ]
     },
     "metadata": {},
     "output_type": "display_data"
    },
    {
     "data": {
      "image/png": "[encoded data removed]",
      "text/latex": [
       "$\\displaystyle \\left[\\begin{matrix}V_{o}\\\\I_{i}\\end{matrix}\\right] = \\left[\\begin{matrix}- \\frac{V_{i}}{\\Delta - 1}\\\\\\frac{- I_{o} R \\Delta + I_{o} R + V_{i}}{R \\left(\\Delta^{2} - 2 \\Delta + 1\\right)}\\end{matrix}\\right]$"
      ],
      "text/plain": [
       "          ⎡            -V_{i}               ⎤\n",
       "          ⎢           ──────────            ⎥\n",
       "          ⎢           \\Delta - 1            ⎥\n",
       "⎡V_{o}⎤   ⎢                                 ⎥\n",
       "⎢     ⎥ = ⎢-I_{o}⋅R⋅\\Delta + I_{o}⋅R + V_{i}⎥\n",
       "⎣I_{i}⎦   ⎢─────────────────────────────────⎥\n",
       "          ⎢      ⎛      2               ⎞   ⎥\n",
       "          ⎣    R⋅⎝\\Delta  - 2⋅\\Delta + 1⎠   ⎦"
      ]
     },
     "metadata": {},
     "output_type": "display_data"
    },
    {
     "name": "stdout",
     "output_type": "stream",
     "text": [
      "Which can be solved to give us the DC gains, and the ports relationships, as follows:\n"
     ]
    },
    {
     "data": {
      "image/png": "[encoded data removed]",
      "text/latex": [
       "$\\displaystyle \\left[ I_{o} = I_{o}, \\  I_{i} = - \\frac{I_{o} R + V_{o}}{R \\left(\\Delta - 1\\right)}, \\  V_{o} = V_{o}, \\  V_{i} = - V_{o} \\left(\\Delta - 1\\right)\\right]$"
      ],
      "text/plain": [
       "⎡                       -(I_{o}⋅R + V_{o})                                    \n",
       "⎢I_{o} = I_{o}, I_{i} = ───────────────────, V_{o} = V_{o}, V_{i} = -V_{o}⋅(\\D\n",
       "⎣                          R⋅(\\Delta - 1)                                     \n",
       "\n",
       "         ⎤\n",
       "elta - 1)⎥\n",
       "         ⎦"
      ]
     },
     "metadata": {},
     "output_type": "display_data"
    },
    {
     "data": {
      "image/png": "[encoded data removed]",
      "text/latex": [
       "$\\displaystyle \\left[ \\frac{V_{o}}{V_{i}} = - \\frac{1}{\\Delta - 1}\\right]$"
      ],
      "text/plain": [
       "⎡V_{o}      -1     ⎤\n",
       "⎢───── = ──────────⎥\n",
       "⎣V_{i}   \\Delta - 1⎦"
      ]
     },
     "metadata": {},
     "output_type": "display_data"
    },
    {
     "data": {
      "image/png": "[encoded data removed]",
      "text/latex": [
       "$\\displaystyle \\left[ \\frac{V_{i}}{I_{i}} = - \\frac{V_{o} \\left(\\Delta - 1\\right)}{I_{i}}, \\  \\frac{V_{i}}{I_{i}} = \\frac{R \\left(\\Delta - 1\\right) \\left(I_{i} \\Delta - I_{i} + I_{o}\\right)}{I_{i}}\\right]$"
      ],
      "text/plain": [
       "⎡V_{i}   -V_{o}⋅(\\Delta - 1)   V_{i}   R⋅(\\Delta - 1)⋅(I_{i}⋅\\Delta - I_{i} + \n",
       "⎢───── = ────────────────────, ───── = ───────────────────────────────────────\n",
       "⎣I_{i}          I_{i}          I_{i}                       I_{i}              \n",
       "\n",
       "I_{o})⎤\n",
       "──────⎥\n",
       "      ⎦"
      ]
     },
     "metadata": {},
     "output_type": "display_data"
    },
    {
     "data": {
      "image/png": "[encoded data removed]",
      "text/latex": [
       "$\\displaystyle \\left[ \\frac{V_{o}}{I_{o}} = - \\frac{V_{i}}{I_{o} \\left(\\Delta - 1\\right)}\\right]$"
      ],
      "text/plain": [
       "⎡V_{o}        -V_{i}       ⎤\n",
       "⎢───── = ──────────────────⎥\n",
       "⎣I_{o}   I_{o}⋅(\\Delta - 1)⎦"
      ]
     },
     "metadata": {},
     "output_type": "display_data"
    },
    {
     "data": {
      "image/png": "[encoded data removed]",
      "text/latex": [
       "$\\displaystyle \\left[ \\frac{I_{o}}{I_{i}} = - \\frac{I_{i} R \\Delta^{2} - 2 I_{i} R \\Delta + I_{i} R - V_{i}}{I_{i} R \\left(\\Delta - 1\\right)}\\right]$"
      ],
      "text/plain": [
       "⎡         ⎛              2                                     ⎞ ⎤\n",
       "⎢I_{o}   -⎝I_{i}⋅R⋅\\Delta  - 2⋅I_{i}⋅R⋅\\Delta + I_{i}⋅R - V_{i}⎠ ⎥\n",
       "⎢───── = ────────────────────────────────────────────────────────⎥\n",
       "⎣I_{i}                     I_{i}⋅R⋅(\\Delta - 1)                  ⎦"
      ]
     },
     "metadata": {},
     "output_type": "display_data"
    }
   ],
   "source": [
    "A, B, C, D, x, y, u = get_averaged_large_signal_model(A1, B1, C1, D1, A2, B2, C2, D2, x, y, u, dt)\n",
    "\n",
    "print(\"Recapitulating, the Averaged Large-signal model is:\")\n",
    "print_ss(A, B, C, D, X + hx, Y + hy, U + hu)\n",
    "\n",
    "print(\"If we consider that all steady-state functions are constants, it's derivatives are zero, so:\")\n",
    "# steady-state, now we consider it to be constants, so it will be zeroed when differentiated.\n",
    "\n",
    "V_i = sym.Symbol('V_{i}', constant=True, finite=True)\n",
    "V_o = sym.Symbol('V_{o}', constant=True, finite=True)\n",
    "V_c = sym.Symbol('V_{C}', constant=True, finite=True)\n",
    "I_o = sym.Symbol('I_{o}', constant=True, finite=True)\n",
    "I_i = sym.Symbol('I_{i}', constant=True, finite=True)\n",
    "I_l = sym.Symbol('I_{L}', constant=True, finite=True)\n",
    "Dt = sym.Symbol('\\Delta', constant=True, finite=True)\n",
    "subs = {\n",
    "    v_i: V_i,\n",
    "    v_o: V_o,\n",
    "    v_c: V_c,\n",
    "    i_o: I_o,\n",
    "    i_i: I_i,\n",
    "    i_l: I_l,\n",
    "    dt: Dt,\n",
    "}\n",
    "X = x.subs(subs)\n",
    "Y = y.subs(subs)\n",
    "U = u.subs(subs)\n",
    "dX = X.diff(t)\n",
    "\n",
    "eq_x = sym.Eq(x, X + hx)\n",
    "eq_y = sym.Eq(y, Y + hy)\n",
    "eq_u = sym.Eq(u, U + hu)\n",
    "eq_dx = sym.Eq(dx, dX + hdx)\n",
    "eq_dt = sym.Eq(dt, Dt + hdt)\n",
    "\n",
    "A = A.subs({dt: eq_dt.rhs})\n",
    "B = B.subs({dt: eq_dt.rhs})\n",
    "C = C.subs({dt: eq_dt.rhs})\n",
    "D = D.subs({dt: eq_dt.rhs})\n",
    "\n",
    "print_ss(A, B, C, D, eq_x.rhs, eq_y.rhs, eq_u.rhs)\n",
    "\n",
    "print(\"And if we are considering the steady state, all small-signals can be neglected:\")\n",
    "\n",
    "A, B, C, D, x, y, u = get_averaged_large_signal_model(A1, B1, C1, D1, A2, B2, C2, D2, x, y, u, dt)\n",
    "\n",
    "# small-signal\n",
    "hv_i = sym.Function('\\hat{v}_{i}', finite=True)(t)\n",
    "hv_o = sym.Function('\\hat{v}_{o}', finite=True)(t)\n",
    "hv_c = sym.Function('\\hat{v}_{C}', finite=True)(t)\n",
    "hi_o = sym.Function('\\hat{i}_{o}', finite=True)(t)\n",
    "hi_i = sym.Function('\\hat{i}_{i}', finite=True)(t)\n",
    "hi_l = sym.Function('\\hat{i}_{L}', finite=True)(t)\n",
    "hdt = sym.Function('\\hat{d}', finite=True)(t)\n",
    "hsubs = {\n",
    "    v_i: hv_i*0,\n",
    "    v_o: hv_o*0,\n",
    "    v_c: hv_c*0,\n",
    "    i_o: hi_o*0,\n",
    "    i_i: hi_i*0,\n",
    "    i_l: hi_l*0,\n",
    "    dt: hdt*0,\n",
    "}\n",
    "hx = x.subs(hsubs)\n",
    "hy = y.subs(hsubs)\n",
    "hu = u.subs(hsubs)\n",
    "hdx = hx.diff(t)\n",
    "\n",
    "eq_x = sym.Eq(x, X + hx)\n",
    "eq_y = sym.Eq(y, Y + hy)\n",
    "eq_u = sym.Eq(u, U + hu)\n",
    "eq_dx = sym.Eq(dx, dX + hdx)\n",
    "eq_dt = sym.Eq(dt, Dt + hdt).subs({hdt: 0})\n",
    "\n",
    "A = A.subs({dt: eq_dt.rhs})\n",
    "B = B.subs({dt: eq_dt.rhs})\n",
    "C = C.subs({dt: eq_dt.rhs})\n",
    "D = D.subs({dt: eq_dt.rhs})\n",
    "\n",
    "print_ss(A, B, C, D, eq_x.rhs, eq_y.rhs, eq_u.rhs)\n",
    "\n",
    "print(\"Than we solve the states equation for X and substitute it in the outputs equation:\")\n",
    "display(Math(\"X = -A^{-1} B U\"))\n",
    "\n",
    "X_eq = sym.latex(X) + \" = \" + \"-\" + sym.latex(A) + \"^{-1}\" + \" \\, \" + sym.latex(B) + \" \\, \" + sym.latex(U)\n",
    "display(Math(X_eq))\n",
    "X_eq = sym.latex(X) + \" = \" + sym.latex(-A.inv()) + \" \\, \" + sym.latex(B) + \" \\, \" + sym.latex(U)\n",
    "display(Math(X_eq))\n",
    "X_eq = sym.latex(X) + \" = \" + sym.latex((-A.inv() * B).expand()) + \" \\, \" + sym.latex(U)\n",
    "display(Math(X_eq))\n",
    "\n",
    "X_eq = sym.Eq(A * eq_x.rhs, -B * eq_u.rhs).subs(subs)\n",
    "X_eq = sym.Eq(X, A.LUsolve(X_eq.rhs).expand().simplify())\n",
    "display(X_eq)\n",
    "print(\"The outputs equation:\")\n",
    "# display(Math(\"Y + \\hat{y}(t) = C \\\\left(X + \\hat{x}\\\\right) + D \\\\left(U + \\hat{u}\\\\right) \\implies Y = C \\\\left(\\\\left[ -A^{-1} B U \\\\right] + \\hat{x}\\\\right) + D \\\\left(U + \\hat{u}\\\\right) - \\hat{y}\"))\n",
    "display(Math(\"Y = C X + D U = C \\\\left[ -A^{-1} B U \\\\right] + D U \"))\n",
    "\n",
    "#TODO: Show step-by-step like we did with X_eq\n",
    "# Y_eq = sym.latex(X) + \" = \" + sym.latex((-A.inv() * B).expand()) + \" \\, \" + sym.latex(U)\n",
    "# display(Y_eq)\n",
    "\n",
    "Y_eq = sym.Eq(Y, C * (X_eq.rhs) + D * (eq_u.rhs) -hy).expand().simplify()\n",
    "display(Y_eq)\n",
    "\n",
    "print(\"Which can be solved to give us the DC gains, and the ports relationships, as follows:\")\n",
    "\n",
    "def matrix_eq_to_system_of_linear_eq(matrix_eq):\n",
    "    return [sym.Eq(matrix_eq.lhs[r], matrix_eq.rhs[r]) for r in range(matrix_eq.lhs.rows)]\n",
    "\n",
    "def get_transfer_function(lin_eqs, num, den):\n",
    "    H = sym.Symbol('H')\n",
    "    _num = H * den\n",
    "    result = []\n",
    "    for eq in lin_eqs:\n",
    "        tf = sym.solve(eq.subs({num: _num}), H)\n",
    "        result.append(tf)\n",
    "    result = filter(None, result)\n",
    "    flatten = sum([*result], [])\n",
    "    result = []\n",
    "    for expr in flatten:\n",
    "        result.append(sym.Eq(num / den, expr.expand().factor(deep=True)))\n",
    "    return result\n",
    "\n",
    "def solve_linear_system_of_equations(lin_eqs, Y, U):\n",
    "    _vars = list(set([*Y.free_symbols, *U.free_symbols]))\n",
    "    result = sym.nonlinsolve(lin_eqs, _vars)\n",
    "    simpler = []\n",
    "    for eq_set in result:\n",
    "        for i, eq in enumerate(eq_set):\n",
    "            simpler.append(sym.Eq(_vars[i], eq.expand().factor(deep=True), evaluate=False))\n",
    "    return simpler\n",
    "\n",
    "def get_averaged_steady_state_solution(A1, B1, C1, D1, A2, B2, C2, D2, X, Y, U, Dt):\n",
    "    return sym.Eq(Y, C * (-A.inv() * B * U) + D * U).expand().simplify()\n",
    "\n",
    "Y_eq = get_averaged_steady_state_solution(A1, B1, C1, D1, A2, B2, C2, D2, X, Y, U, Dt)\n",
    "lin_eqs = matrix_eq_to_system_of_linear_eq(Y_eq)\n",
    "display(solve_linear_system_of_equations(lin_eqs, Y, U))\n",
    "display(get_transfer_function(lin_eqs, V_o, V_i))\n",
    "display(get_transfer_function(lin_eqs, V_i, I_i))\n",
    "display(get_transfer_function(lin_eqs, V_o, I_o))\n",
    "display(get_transfer_function(lin_eqs, I_o, I_i))"
   ]
  },
  {
   "cell_type": "markdown",
   "id": "a9c89ee4",
   "metadata": {},
   "source": [
    "## Small-signal Model\n",
    "\n",
    "\\begin{align}\n",
    "    \\dot{\\hat{x}}(t) &= A \\, \\hat{x}(t) + B \\, \\hat{u}(t) + \n",
    "        \\left[ \n",
    "            \\left( A_{1} - A_{2} \\right) \\, X +\n",
    "            \\left( B_{1} - B_{2} \\right) \\, U\n",
    "        \\right] \\hat{d}(t) \\\\\n",
    "    \\hat{y}(t) &= C \\, \\hat{x}(t) + D \\, \\hat{u}(t) + \n",
    "        \\left[\n",
    "            \\left( C_{1} \\, - C_{2} \\right) \\, X +\n",
    "            \\left( D_{1} \\, - D_{2} \\right) \\, U\n",
    "        \\right] \\hat{d}(t)\n",
    "\\end{align}"
   ]
  },
  {
   "cell_type": "code",
   "execution_count": 389,
   "id": "e9e35d94",
   "metadata": {},
   "outputs": [
    {
     "name": "stdout",
     "output_type": "stream",
     "text": [
      "Recaptulating, the Averaged Large-signal model is:\n"
     ]
    },
    {
     "data": {
      "text/latex": [
       "$\\displaystyle \\left[\\begin{matrix}\\frac{d}{d t} \\operatorname{I_{L}}{\\left(t \\right)} + \\frac{d}{d t} \\hat{i}_{L}{\\left(t \\right)}\\\\\\frac{d}{d t} \\operatorname{V_{C}}{\\left(t \\right)} + \\frac{d}{d t} \\hat{v}_{C}{\\left(t \\right)}\\end{matrix}\\right] = \\left[\\begin{matrix}0 & \\frac{\\Delta{\\left(t \\right)} + \\hat{d}{\\left(t \\right)} - 1}{L}\\\\\\frac{- \\Delta{\\left(t \\right)} - \\hat{d}{\\left(t \\right)} + 1}{C} & - \\frac{1}{C R}\\end{matrix}\\right] \\, \\left[\\begin{matrix}\\operatorname{I_{L}}{\\left(t \\right)} + \\hat{i}_{L}{\\left(t \\right)}\\\\\\operatorname{V_{C}}{\\left(t \\right)} + \\hat{v}_{C}{\\left(t \\right)}\\end{matrix}\\right] + \\left[\\begin{matrix}\\frac{1}{L} & 0\\\\0 & - \\frac{1}{C}\\end{matrix}\\right] \\, \\left[\\begin{matrix}\\operatorname{V_{i}}{\\left(t \\right)} + \\hat{v}_{i}{\\left(t \\right)}\\\\\\operatorname{I_{o}}{\\left(t \\right)} + \\hat{i}_{o}{\\left(t \\right)}\\end{matrix}\\right]$"
      ],
      "text/plain": [
       "<IPython.core.display.Math object>"
      ]
     },
     "metadata": {},
     "output_type": "display_data"
    },
    {
     "data": {
      "text/latex": [
       "$\\displaystyle \\left[\\begin{matrix}\\operatorname{V_{o}}{\\left(t \\right)} + \\hat{v}_{o}{\\left(t \\right)}\\\\\\operatorname{I_{i}}{\\left(t \\right)} + \\hat{i}_{i}{\\left(t \\right)}\\end{matrix}\\right] = \\left[\\begin{matrix}0 & 1\\\\1 & 0\\end{matrix}\\right] \\, \\left[\\begin{matrix}\\operatorname{I_{L}}{\\left(t \\right)} + \\hat{i}_{L}{\\left(t \\right)}\\\\\\operatorname{V_{C}}{\\left(t \\right)} + \\hat{v}_{C}{\\left(t \\right)}\\end{matrix}\\right] + \\left[\\begin{matrix}0 & 0\\\\0 & 0\\end{matrix}\\right] \\, \\left[\\begin{matrix}\\operatorname{V_{i}}{\\left(t \\right)} + \\hat{v}_{i}{\\left(t \\right)}\\\\\\operatorname{I_{o}}{\\left(t \\right)} + \\hat{i}_{o}{\\left(t \\right)}\\end{matrix}\\right]$"
      ],
      "text/plain": [
       "<IPython.core.display.Math object>"
      ]
     },
     "metadata": {},
     "output_type": "display_data"
    },
    {
     "name": "stdout",
     "output_type": "stream",
     "text": [
      "If the steady-state signals are constant, therefore the derivative of the states is zero:\n"
     ]
    },
    {
     "data": {
      "text/latex": [
       "$\\displaystyle \\left[\\begin{matrix}\\frac{d}{d t} \\hat{i}_{L}{\\left(t \\right)}\\\\\\frac{d}{d t} \\hat{v}_{C}{\\left(t \\right)}\\end{matrix}\\right] = \\left[\\begin{matrix}0 & \\frac{\\Delta + \\hat{d}{\\left(t \\right)} - 1}{L}\\\\\\frac{- \\Delta - \\hat{d}{\\left(t \\right)} + 1}{C} & - \\frac{1}{C R}\\end{matrix}\\right] \\, \\left[\\begin{matrix}I_{L} + \\hat{i}_{L}{\\left(t \\right)}\\\\V_{C} + \\hat{v}_{C}{\\left(t \\right)}\\end{matrix}\\right] + \\left[\\begin{matrix}\\frac{1}{L} & 0\\\\0 & - \\frac{1}{C}\\end{matrix}\\right] \\, \\left[\\begin{matrix}V_{i} + \\hat{v}_{i}{\\left(t \\right)}\\\\I_{o} + \\hat{i}_{o}{\\left(t \\right)}\\end{matrix}\\right]$"
      ],
      "text/plain": [
       "<IPython.core.display.Math object>"
      ]
     },
     "metadata": {},
     "output_type": "display_data"
    },
    {
     "data": {
      "text/latex": [
       "$\\displaystyle \\left[\\begin{matrix}V_{o} + \\hat{v}_{o}{\\left(t \\right)}\\\\I_{i} + \\hat{i}_{i}{\\left(t \\right)}\\end{matrix}\\right] = \\left[\\begin{matrix}0 & 1\\\\1 & 0\\end{matrix}\\right] \\, \\left[\\begin{matrix}I_{L} + \\hat{i}_{L}{\\left(t \\right)}\\\\V_{C} + \\hat{v}_{C}{\\left(t \\right)}\\end{matrix}\\right] + \\left[\\begin{matrix}0 & 0\\\\0 & 0\\end{matrix}\\right] \\, \\left[\\begin{matrix}V_{i} + \\hat{v}_{i}{\\left(t \\right)}\\\\I_{o} + \\hat{i}_{o}{\\left(t \\right)}\\end{matrix}\\right]$"
      ],
      "text/plain": [
       "<IPython.core.display.Math object>"
      ]
     },
     "metadata": {},
     "output_type": "display_data"
    },
    {
     "name": "stdout",
     "output_type": "stream",
     "text": [
      "To solve this, we can expand the matrix multiplication into each term relative to hats and non-hats:\n"
     ]
    },
    {
     "data": {
      "text/latex": [
       "$\\displaystyle \\left[\\begin{matrix}\\frac{d}{d t} \\hat{i}_{L}{\\left(t \\right)}\\\\\\frac{d}{d t} \\hat{v}_{C}{\\left(t \\right)}\\end{matrix}\\right] = \\left\\{\\left[\\begin{matrix}0 & \\frac{\\Delta - 1}{L}\\\\\\frac{1 - \\Delta}{C} & - \\frac{1}{C R}\\end{matrix}\\right] \\, \\left[\\begin{matrix}I_{L} + \\hat{i}_{L}{\\left(t \\right)}\\\\V_{C} + \\hat{v}_{C}{\\left(t \\right)}\\end{matrix}\\right]\\right\\} + \\left\\{\\left[\\begin{matrix}0 & \\frac{\\hat{d}{\\left(t \\right)}}{L}\\\\- \\frac{\\hat{d}{\\left(t \\right)}}{C} & 0\\end{matrix}\\right] \\, \\left[\\begin{matrix}I_{L} + \\hat{i}_{L}{\\left(t \\right)}\\\\V_{C} + \\hat{v}_{C}{\\left(t \\right)}\\end{matrix}\\right]\\right\\} + \\left\\{\\left[\\begin{matrix}\\frac{\\Delta + \\hat{d}{\\left(t \\right)}}{L} + \\frac{- \\Delta - \\hat{d}{\\left(t \\right)} + 1}{L} & 0\\\\0 & - \\frac{\\Delta + \\hat{d}{\\left(t \\right)}}{C} - \\frac{- \\Delta - \\hat{d}{\\left(t \\right)} + 1}{C}\\end{matrix}\\right] \\, \\left[\\begin{matrix}V_{i} + \\hat{v}_{i}{\\left(t \\right)}\\\\I_{o} + \\hat{i}_{o}{\\left(t \\right)}\\end{matrix}\\right]\\right\\}$"
      ],
      "text/plain": [
       "<IPython.core.display.Math object>"
      ]
     },
     "metadata": {},
     "output_type": "display_data"
    },
    {
     "data": {
      "text/latex": [
       "$\\displaystyle \\begin{aligned}\\left[\\begin{matrix}\\frac{d}{d t} \\hat{i}_{L}{\\left(t \\right)}\\\\\\frac{d}{d t} \\hat{v}_{C}{\\left(t \\right)}\\end{matrix}\\right] &{}= \\left\\{\\left[\\begin{matrix}0 & \\frac{\\Delta - 1}{L}\\\\\\frac{1 - \\Delta}{C} & - \\frac{1}{C R}\\end{matrix}\\right] \\, \\left[\\begin{matrix}I_{L}\\\\V_{C}\\end{matrix}\\right]\\right\\}  +   \\left\\{\\left[\\begin{matrix}0 & \\frac{\\Delta - 1}{L}\\\\\\frac{1 - \\Delta}{C} & - \\frac{1}{C R}\\end{matrix}\\right] \\, \\left[\\begin{matrix}\\hat{i}_{L}{\\left(t \\right)}\\\\\\hat{v}_{C}{\\left(t \\right)}\\end{matrix}\\right]\\right\\}\\\\ &+   \\left\\{\\left[\\begin{matrix}0 & \\frac{\\hat{d}{\\left(t \\right)}}{L}\\\\- \\frac{\\hat{d}{\\left(t \\right)}}{C} & 0\\end{matrix}\\right] \\, \\left[\\begin{matrix}I_{L}\\\\V_{C}\\end{matrix}\\right]\\right\\}  +   \\left\\{\\left[\\begin{matrix}0 & \\frac{\\hat{d}{\\left(t \\right)}}{L}\\\\- \\frac{\\hat{d}{\\left(t \\right)}}{C} & 0\\end{matrix}\\right] \\, \\left[\\begin{matrix}\\hat{i}_{L}{\\left(t \\right)}\\\\\\hat{v}_{C}{\\left(t \\right)}\\end{matrix}\\right]\\right\\}\\\\ &+   \\left\\{\\left[\\begin{matrix}\\frac{1}{L} & 0\\\\0 & - \\frac{1}{C}\\end{matrix}\\right] \\, \\left[\\begin{matrix}V_{i}\\\\I_{o}\\end{matrix}\\right]\\right\\}  +   \\left\\{\\left[\\begin{matrix}\\frac{1}{L} & 0\\\\0 & - \\frac{1}{C}\\end{matrix}\\right] \\, \\left[\\begin{matrix}\\hat{v}_{i}{\\left(t \\right)}\\\\\\hat{i}_{o}{\\left(t \\right)}\\end{matrix}\\right]\\right\\}\\\\ &+   \\left\\{\\left[\\begin{matrix}0 & 0\\\\0 & 0\\end{matrix}\\right] \\, \\left[\\begin{matrix}V_{i}\\\\I_{o}\\end{matrix}\\right]\\right\\}  +   \\left\\{\\left[\\begin{matrix}0 & 0\\\\0 & 0\\end{matrix}\\right] \\, \\left[\\begin{matrix}\\hat{v}_{i}{\\left(t \\right)}\\\\\\hat{i}_{o}{\\left(t \\right)}\\end{matrix}\\right]\\right\\}\\end{aligned}$"
      ],
      "text/plain": [
       "<IPython.core.display.Math object>"
      ]
     },
     "metadata": {},
     "output_type": "display_data"
    },
    {
     "data": {
      "text/latex": [
       "$\\displaystyle \\begin{aligned}\\left[\\begin{matrix}\\frac{d}{d t} \\hat{i}_{L}{\\left(t \\right)}\\\\\\frac{d}{d t} \\hat{v}_{C}{\\left(t \\right)}\\end{matrix}\\right] &{}= \\left\\{\\left[\\begin{matrix}0 & \\frac{\\Delta - 1}{L}\\\\\\frac{1 - \\Delta}{C} & - \\frac{1}{C R}\\end{matrix}\\right] \\, \\left[\\begin{matrix}I_{L}\\\\V_{C}\\end{matrix}\\right]\\right\\}  +   \\left\\{\\left[\\begin{matrix}\\frac{1}{L} & 0\\\\0 & - \\frac{1}{C}\\end{matrix}\\right] \\, \\left[\\begin{matrix}V_{i}\\\\I_{o}\\end{matrix}\\right]\\right\\}\\\\ &+   \\left\\{\\left[\\begin{matrix}0 & \\frac{\\Delta - 1}{L}\\\\\\frac{1 - \\Delta}{C} & - \\frac{1}{C R}\\end{matrix}\\right] \\, \\left[\\begin{matrix}\\hat{i}_{L}{\\left(t \\right)}\\\\\\hat{v}_{C}{\\left(t \\right)}\\end{matrix}\\right]\\right\\}  +   \\left\\{\\left[\\begin{matrix}\\frac{1}{L} & 0\\\\0 & - \\frac{1}{C}\\end{matrix}\\right] \\, \\left[\\begin{matrix}\\hat{v}_{i}{\\left(t \\right)}\\\\\\hat{i}_{o}{\\left(t \\right)}\\end{matrix}\\right]\\right\\}\\\\ &+   \\left\\{\\left[\\begin{matrix}0 & \\frac{\\hat{d}{\\left(t \\right)}}{L}\\\\- \\frac{\\hat{d}{\\left(t \\right)}}{C} & 0\\end{matrix}\\right] \\, \\left[\\begin{matrix}I_{L}\\\\V_{C}\\end{matrix}\\right]\\right\\}  +   \\left\\{\\left[\\begin{matrix}0 & 0\\\\0 & 0\\end{matrix}\\right] \\, \\left[\\begin{matrix}V_{i}\\\\I_{o}\\end{matrix}\\right]\\right\\}\\\\ &+   \\left\\{\\left[\\begin{matrix}0 & \\frac{\\hat{d}{\\left(t \\right)}}{L}\\\\- \\frac{\\hat{d}{\\left(t \\right)}}{C} & 0\\end{matrix}\\right] \\, \\left[\\begin{matrix}\\hat{i}_{L}{\\left(t \\right)}\\\\\\hat{v}_{C}{\\left(t \\right)}\\end{matrix}\\right]\\right\\}  +   \\left\\{\\left[\\begin{matrix}0 & 0\\\\0 & 0\\end{matrix}\\right] \\, \\left[\\begin{matrix}\\hat{v}_{i}{\\left(t \\right)}\\\\\\hat{i}_{o}{\\left(t \\right)}\\end{matrix}\\right]\\right\\}\\end{aligned}$"
      ],
      "text/plain": [
       "<IPython.core.display.Math object>"
      ]
     },
     "metadata": {},
     "output_type": "display_data"
    },
    {
     "name": "stdout",
     "output_type": "stream",
     "text": [
      "We can use the great common denominator to get the small-signal duty-cycle term out of the A and B matrices:\n"
     ]
    },
    {
     "data": {
      "text/latex": [
       "$\\displaystyle \\begin{aligned}\\left[\\begin{matrix}\\frac{d}{d t} \\hat{i}_{L}{\\left(t \\right)}\\\\\\frac{d}{d t} \\hat{v}_{C}{\\left(t \\right)}\\end{matrix}\\right] &{}= \\left\\{\\left[\\begin{matrix}0 & \\frac{\\Delta - 1}{L}\\\\\\frac{1 - \\Delta}{C} & - \\frac{1}{C R}\\end{matrix}\\right] \\, \\left[\\begin{matrix}I_{L}\\\\V_{C}\\end{matrix}\\right]\\right\\}  +   \\left\\{\\left[\\begin{matrix}\\frac{1}{L} & 0\\\\0 & - \\frac{1}{C}\\end{matrix}\\right] \\, \\left[\\begin{matrix}V_{i}\\\\I_{o}\\end{matrix}\\right]\\right\\}\\\\ &+   \\left\\{\\left[\\begin{matrix}0 & \\frac{\\Delta - 1}{L}\\\\\\frac{1 - \\Delta}{C} & - \\frac{1}{C R}\\end{matrix}\\right] \\, \\left[\\begin{matrix}\\hat{i}_{L}{\\left(t \\right)}\\\\\\hat{v}_{C}{\\left(t \\right)}\\end{matrix}\\right]\\right\\}  +   \\left\\{\\left[\\begin{matrix}\\frac{1}{L} & 0\\\\0 & - \\frac{1}{C}\\end{matrix}\\right] \\, \\left[\\begin{matrix}\\hat{v}_{i}{\\left(t \\right)}\\\\\\hat{i}_{o}{\\left(t \\right)}\\end{matrix}\\right]\\right\\}\\\\ &+   \\left\\{\\left[\\begin{matrix}0 & \\frac{1}{L}\\\\- \\frac{1}{C} & 0\\end{matrix}\\right] \\, \\left[\\begin{matrix}I_{L}\\\\V_{C}\\end{matrix}\\right]\\hat{d}{\\left(t \\right)}\\right\\}  +   \\left\\{\\left[\\begin{matrix}0 & 0\\\\0 & 0\\end{matrix}\\right] \\, \\left[\\begin{matrix}V_{i}\\\\I_{o}\\end{matrix}\\right]0\\right\\}\\\\ &+   \\left\\{\\left[\\begin{matrix}0 & \\frac{1}{L}\\\\- \\frac{1}{C} & 0\\end{matrix}\\right] \\, \\left[\\begin{matrix}\\hat{i}_{L}{\\left(t \\right)}\\\\\\hat{v}_{C}{\\left(t \\right)}\\end{matrix}\\right]\\hat{d}{\\left(t \\right)}\\right\\}  +   \\left\\{\\left[\\begin{matrix}0 & 0\\\\0 & 0\\end{matrix}\\right] \\, \\left[\\begin{matrix}\\hat{v}_{i}{\\left(t \\right)}\\\\\\hat{i}_{o}{\\left(t \\right)}\\end{matrix}\\right]0\\right\\}\\end{aligned}$"
      ],
      "text/plain": [
       "<IPython.core.display.Math object>"
      ]
     },
     "metadata": {},
     "output_type": "display_data"
    },
    {
     "name": "stdout",
     "output_type": "stream",
     "text": [
      "Now, by recaptulating that:\n"
     ]
    },
    {
     "data": {
      "text/latex": [
       "$\\displaystyle \\dot{X} = 0 = A X + B U = \\left[\\begin{matrix}0 & \\frac{\\Delta - 1}{L}\\\\\\frac{1 - \\Delta}{C} & - \\frac{1}{C R}\\end{matrix}\\right] \\, \\left[\\begin{matrix}I_{L}\\\\V_{C}\\end{matrix}\\right] + \\left[\\begin{matrix}\\frac{1}{L} & 0\\\\0 & - \\frac{1}{C}\\end{matrix}\\right] \\, \\left[\\begin{matrix}V_{i}\\\\I_{o}\\end{matrix}\\right]$"
      ],
      "text/plain": [
       "<IPython.core.display.Math object>"
      ]
     },
     "metadata": {},
     "output_type": "display_data"
    },
    {
     "name": "stdout",
     "output_type": "stream",
     "text": [
      "And also that the multiplication of two small signals can be considered as zero:\n"
     ]
    },
    {
     "data": {
      "text/latex": [
       "$\\displaystyle \\begin{aligned}\\left[\\begin{matrix}\\frac{d}{d t} \\hat{i}_{L}{\\left(t \\right)}\\\\\\frac{d}{d t} \\hat{v}_{C}{\\left(t \\right)}\\end{matrix}\\right] &{}= \\xcancel{\\left\\{\\left[\\begin{matrix}0 & \\frac{\\Delta - 1}{L}\\\\\\frac{1 - \\Delta}{C} & - \\frac{1}{C R}\\end{matrix}\\right] \\, \\left[\\begin{matrix}I_{L}\\\\V_{C}\\end{matrix}\\right]\\right\\}  +   \\left\\{\\left[\\begin{matrix}\\frac{1}{L} & 0\\\\0 & - \\frac{1}{C}\\end{matrix}\\right] \\, \\left[\\begin{matrix}V_{i}\\\\I_{o}\\end{matrix}\\right]\\right\\}}\\\\ &+   \\left\\{\\left[\\begin{matrix}0 & \\frac{\\Delta - 1}{L}\\\\\\frac{1 - \\Delta}{C} & - \\frac{1}{C R}\\end{matrix}\\right] \\, \\left[\\begin{matrix}\\hat{i}_{L}{\\left(t \\right)}\\\\\\hat{v}_{C}{\\left(t \\right)}\\end{matrix}\\right]\\right\\}  +   \\left\\{\\left[\\begin{matrix}\\frac{1}{L} & 0\\\\0 & - \\frac{1}{C}\\end{matrix}\\right] \\, \\left[\\begin{matrix}\\hat{v}_{i}{\\left(t \\right)}\\\\\\hat{i}_{o}{\\left(t \\right)}\\end{matrix}\\right]\\right\\}\\\\ &+   \\left\\{\\left[\\begin{matrix}0 & \\frac{1}{L}\\\\- \\frac{1}{C} & 0\\end{matrix}\\right] \\, \\left[\\begin{matrix}I_{L}\\\\V_{C}\\end{matrix}\\right]\\hat{d}{\\left(t \\right)}\\right\\}  +   \\left\\{\\left[\\begin{matrix}0 & 0\\\\0 & 0\\end{matrix}\\right] \\, \\left[\\begin{matrix}V_{i}\\\\I_{o}\\end{matrix}\\right]0\\right\\}\\\\ &+   \\xcancel{\\left\\{\\left[\\begin{matrix}0 & \\frac{1}{L}\\\\- \\frac{1}{C} & 0\\end{matrix}\\right] \\, \\left[\\begin{matrix}\\hat{i}_{L}{\\left(t \\right)}\\\\\\hat{v}_{C}{\\left(t \\right)}\\end{matrix}\\right]\\hat{d}{\\left(t \\right)}\\right\\}  +   \\left\\{\\left[\\begin{matrix}0 & 0\\\\0 & 0\\end{matrix}\\right] \\, \\left[\\begin{matrix}\\hat{v}_{i}{\\left(t \\right)}\\\\\\hat{i}_{o}{\\left(t \\right)}\\end{matrix}\\right]0\\right\\}}\\end{aligned}$"
      ],
      "text/plain": [
       "<IPython.core.display.Math object>"
      ]
     },
     "metadata": {},
     "output_type": "display_data"
    },
    {
     "name": "stdout",
     "output_type": "stream",
     "text": [
      "Now we group the states X and inputs U:\n"
     ]
    },
    {
     "data": {
      "text/latex": [
       "$\\displaystyle \\begin{aligned}\\left[\\begin{matrix}\\frac{d}{d t} \\hat{i}_{L}{\\left(t \\right)}\\\\\\frac{d}{d t} \\hat{v}_{C}{\\left(t \\right)}\\end{matrix}\\right] &+   \\left\\{\\left[\\begin{matrix}0 & \\frac{\\Delta - 1}{L}\\\\\\frac{1 - \\Delta}{C} & - \\frac{1}{C R}\\end{matrix}\\right] \\, \\left[\\begin{matrix}\\hat{i}_{L}{\\left(t \\right)}\\\\\\hat{v}_{C}{\\left(t \\right)}\\end{matrix}\\right]\\right\\}  +   \\left\\{\\left[\\begin{matrix}\\frac{1}{L} & 0\\\\0 & - \\frac{1}{C}\\end{matrix}\\right] \\, \\left[\\begin{matrix}\\hat{v}_{i}{\\left(t \\right)}\\\\\\hat{i}_{o}{\\left(t \\right)}\\end{matrix}\\right]\\right\\}\\\\ &+   \\left\\{\\left[\\begin{matrix}0 & \\frac{1}{L}\\\\- \\frac{1}{C} & 0\\end{matrix}\\right] \\, \\left[\\begin{matrix}I_{L}\\\\V_{C}\\end{matrix}\\right]\\hat{d}{\\left(t \\right)}\\right\\}  +   \\left\\{\\left[\\begin{matrix}0 & 0\\\\0 & 0\\end{matrix}\\right] \\, \\left[\\begin{matrix}V_{i}\\\\I_{o}\\end{matrix}\\right]0\\right\\}\\\\\\end{aligned}$"
      ],
      "text/plain": [
       "<IPython.core.display.Math object>"
      ]
     },
     "metadata": {},
     "output_type": "display_data"
    },
    {
     "data": {
      "text/latex": [
       "$\\displaystyle \\begin{aligned}\\left[\\begin{matrix}\\frac{d}{d t} \\hat{i}_{L}{\\left(t \\right)}\\\\\\frac{d}{d t} \\hat{v}_{C}{\\left(t \\right)}\\end{matrix}\\right] &+   \\left\\{\\left[\\begin{matrix}0 & \\frac{\\Delta - 1}{L}\\\\\\frac{1 - \\Delta}{C} & - \\frac{1}{C R}\\end{matrix}\\right] \\, \\left[\\begin{matrix}\\hat{i}_{L}{\\left(t \\right)}\\\\\\hat{v}_{C}{\\left(t \\right)}\\end{matrix}\\right]\\right\\}  +   \\left\\{\\left[\\begin{matrix}\\frac{1}{L} & 0\\\\0 & - \\frac{1}{C}\\end{matrix}\\right] \\, \\left[\\begin{matrix}\\hat{v}_{i}{\\left(t \\right)}\\\\\\hat{i}_{o}{\\left(t \\right)}\\end{matrix}\\right] + \\left[\\begin{matrix}\\frac{V_{C}}{L}\\\\- \\frac{I_{L}}{C}\\end{matrix}\\right] \\, \\hat{d}{\\left(t \\right)}\\right\\}\\end{aligned}$"
      ],
      "text/plain": [
       "<IPython.core.display.Math object>"
      ]
     },
     "metadata": {},
     "output_type": "display_data"
    },
    {
     "name": "stdout",
     "output_type": "stream",
     "text": [
      "To get the canonical form, we can rearange the outputs as:\n"
     ]
    },
    {
     "data": {
      "text/latex": [
       "$\\displaystyle \\begin{aligned}\\left[\\begin{matrix}\\frac{d}{d t} \\hat{i}_{L}{\\left(t \\right)}\\\\\\frac{d}{d t} \\hat{v}_{C}{\\left(t \\right)}\\end{matrix}\\right] &+   \\left[\\begin{matrix}0 & \\frac{\\Delta - 1}{L}\\\\\\frac{1 - \\Delta}{C} & - \\frac{1}{C R}\\end{matrix}\\right] \\, \\left[\\begin{matrix}\\hat{i}_{L}{\\left(t \\right)}\\\\\\hat{v}_{C}{\\left(t \\right)}\\end{matrix}\\right]  +   \\left[\\begin{matrix}\\frac{1}{L} & 0 & \\frac{V_{C}}{L}\\\\0 & - \\frac{1}{C} & - \\frac{I_{L}}{C}\\end{matrix}\\right] \\, \\left[\\begin{matrix}\\hat{v}_{i}{\\left(t \\right)}\\\\\\hat{i}_{o}{\\left(t \\right)}\\\\\\hat{d}{\\left(t \\right)}\\end{matrix}\\right]\\end{aligned}$"
      ],
      "text/plain": [
       "<IPython.core.display.Math object>"
      ]
     },
     "metadata": {},
     "output_type": "display_data"
    }
   ],
   "source": [
    "print(\"Recapitulating, the Averaged Large-signal model is:\")\n",
    "\n",
    "A, B, C, D, x, y, u = get_averaged_large_signal_model(A1, B1, C1, D1, A2, B2, C2, D2, x, y, u, dt)\n",
    "\n",
    "# small-signal\n",
    "hv_i = sym.Function('\\hat{v}_{i}', finite=True)(t)\n",
    "hv_o = sym.Function('\\hat{v}_{o}', finite=True)(t)\n",
    "hv_c = sym.Function('\\hat{v}_{C}', finite=True)(t)\n",
    "hi_o = sym.Function('\\hat{i}_{o}', finite=True)(t)\n",
    "hi_i = sym.Function('\\hat{i}_{i}', finite=True)(t)\n",
    "hi_l = sym.Function('\\hat{i}_{L}', finite=True)(t)\n",
    "hdt = sym.Function('\\hat{d}', finite=True)(t)\n",
    "hsubs = {\n",
    "    v_i: hv_i,\n",
    "    v_o: hv_o,\n",
    "    v_c: hv_c,\n",
    "    i_o: hi_o,\n",
    "    i_i: hi_i,\n",
    "    i_l: hi_l,\n",
    "    dt: hdt,\n",
    "}\n",
    "hx = x.subs(hsubs)\n",
    "hy = y.subs(hsubs)\n",
    "hu = u.subs(hsubs)\n",
    "hdx = hx.diff(t)\n",
    "\n",
    "V_i = sym.Function('V_{i}', finite=True)(t)\n",
    "V_o = sym.Function('V_{o}', finite=True)(t)\n",
    "V_c = sym.Function('V_{C}', finite=True)(t)\n",
    "I_o = sym.Function('I_{o}', finite=True)(t)\n",
    "I_i = sym.Function('I_{i}', finite=True)(t)\n",
    "I_l = sym.Function('I_{L}', finite=True)(t)\n",
    "Dt = sym.Function('\\Delta', finite=True)(t)\n",
    "subs = {\n",
    "    v_i: V_i,\n",
    "    v_o: V_o,\n",
    "    v_c: V_c,\n",
    "    i_o: I_o,\n",
    "    i_i: I_i,\n",
    "    i_l: I_l,\n",
    "    dt: Dt,\n",
    "}\n",
    "X = x.subs(subs)\n",
    "Y = y.subs(subs)\n",
    "U = u.subs(subs)\n",
    "dX = X.diff(t)\n",
    "\n",
    "eq_x = sym.Eq(x, X + hx)\n",
    "eq_y = sym.Eq(y, Y + hy)\n",
    "eq_u = sym.Eq(u, U + hu)\n",
    "eq_dx = sym.Eq(dx, dX + hdx)\n",
    "eq_dt = sym.Eq(dt, Dt + hdt)\n",
    "\n",
    "A = A.subs({dt: eq_dt.rhs})\n",
    "B = B.subs({dt: eq_dt.rhs})\n",
    "C = C.subs({dt: eq_dt.rhs})\n",
    "D = D.subs({dt: eq_dt.rhs})\n",
    "\n",
    "print_ss(A, B, C, D, eq_x.rhs, eq_y.rhs, eq_u.rhs)\n",
    "\n",
    "print(\"If the steady-state signals are constant, therefore the derivative of the states is zero:\")\n",
    "\n",
    "A, B, C, D, x, y, u = get_averaged_large_signal_model(A1, B1, C1, D1, A2, B2, C2, D2, x, y, u, dt)\n",
    "\n",
    "V_i = sym.Symbol('V_{i}', constant=True, finite=True)\n",
    "V_o = sym.Symbol('V_{o}', constant=True, finite=True)\n",
    "V_c = sym.Symbol('V_{C}', constant=True, finite=True)\n",
    "I_o = sym.Symbol('I_{o}', constant=True, finite=True)\n",
    "I_i = sym.Symbol('I_{i}', constant=True, finite=True)\n",
    "I_l = sym.Symbol('I_{L}', constant=True, finite=True)\n",
    "Dt = sym.Symbol('\\Delta', constant=True, finite=True)\n",
    "subs = {\n",
    "    v_i: V_i,\n",
    "    v_o: V_o,\n",
    "    v_c: V_c,\n",
    "    i_o: I_o,\n",
    "    i_i: I_i,\n",
    "    i_l: I_l,\n",
    "    dt: Dt,\n",
    "}\n",
    "X = x.subs(subs)\n",
    "Y = y.subs(subs)\n",
    "U = u.subs(subs)\n",
    "dX = X.diff(t)\n",
    "\n",
    "eq_x = sym.Eq(x, X + hx)\n",
    "eq_y = sym.Eq(y, Y + hy)\n",
    "eq_u = sym.Eq(u, U + hu)\n",
    "eq_dx = sym.Eq(dx, dX + hdx)\n",
    "eq_dt = sym.Eq(dt, Dt + hdt)\n",
    "\n",
    "A = A.subs({dt: eq_dt.rhs})\n",
    "B = B.subs({dt: eq_dt.rhs})\n",
    "C = C.subs({dt: eq_dt.rhs})\n",
    "D = D.subs({dt: eq_dt.rhs})\n",
    "\n",
    "print_ss(A, B, C, D, eq_x.rhs, eq_y.rhs, eq_u.rhs)\n",
    "print(\"To solve this, we can expand the matrix multiplication into each term relative to hats and non-hats:\")\n",
    "# A simple way to do this is by zeroing the part we don't want to gather:\n",
    "hat_A = sym.ImmutableDenseMatrix(A.subs({Dt: 0}) - A.subs({Dt: 0, hdt: 0})).expand().simplify()\n",
    "hat_B = sym.ImmutableDenseMatrix(B.subs({Dt: 0}) - B.subs({Dt: 0, hdt: 0})).expand().simplify()\n",
    "steady_A = sym.ImmutableDenseMatrix(A.subs({hdt: 0})).expand().simplify()\n",
    "steady_B = sym.ImmutableDenseMatrix(B.subs({hdt: 0})).expand().simplify()\n",
    "\n",
    "X_eq = sym.latex(eq_dx.rhs) + \" = \" + (\n",
    "    r\"\\left\\{\" + sym.latex(steady_A) + \" \\, \" + sym.latex(eq_x.rhs) + r\"\\right\\}\" + \" + \" + \n",
    "    r\"\\left\\{\" + sym.latex(hat_A) + \" \\, \" + sym.latex(eq_x.rhs) + r\"\\right\\}\" + \" + \" + \n",
    "    r\"\\left\\{\" + sym.latex(B) + \" \\, \" + sym.latex(eq_u.rhs) + r\"\\right\\}\"\n",
    ")\n",
    "display(Math(X_eq))\n",
    "\n",
    "X_eq = r\"\\begin{aligned}\" + sym.latex(eq_dx.rhs) + (\n",
    "    \" &{}= \" + r\"\\left\\{\" + sym.latex(steady_A) + \" \\, \" + sym.latex(X) + r\"\\right\\}\" + \n",
    "    \"  +   \" + r\"\\left\\{\" + sym.latex(steady_A) + \" \\, \" + sym.latex(hx) + r\"\\right\\}\" + r\"\\\\\" +\n",
    "    \" &+   \" + r\"\\left\\{\" + sym.latex(hat_A)    + \" \\, \" + sym.latex(X) + r\"\\right\\}\" + \n",
    "    \"  +   \" + r\"\\left\\{\" + sym.latex(hat_A)    + \" \\, \" + sym.latex(hx) + r\"\\right\\}\" + r\"\\\\\" +\n",
    "    \" &+   \" + r\"\\left\\{\" + sym.latex(steady_B) + \" \\, \" + sym.latex(U) + r\"\\right\\}\" +\n",
    "    \"  +   \" + r\"\\left\\{\" + sym.latex(steady_B) + \" \\, \" + sym.latex(hu) + r\"\\right\\}\" + r\"\\\\\" +\n",
    "    \" &+   \" + r\"\\left\\{\" + sym.latex(hat_B)    + \" \\, \" + sym.latex(U) + r\"\\right\\}\" +\n",
    "    \"  +   \" + r\"\\left\\{\" + sym.latex(hat_B)    + \" \\, \" + sym.latex(hu) + r\"\\right\\}\"\n",
    ") + r\"\\end{aligned}\"\n",
    "display(Math(X_eq))\n",
    "\n",
    "X_eq = r\"\\begin{aligned}\" + sym.latex(eq_dx.rhs) + (\n",
    "    \" &{}= \" + r\"\\left\\{\" + sym.latex(steady_A) + \" \\, \" + sym.latex(X) + r\"\\right\\}\" + \n",
    "    \"  +   \" + r\"\\left\\{\" + sym.latex(steady_B) + \" \\, \" + sym.latex(U) + r\"\\right\\}\" + r\"\\\\\" +\n",
    "    \" &+   \" + r\"\\left\\{\" + sym.latex(steady_A) + \" \\, \" + sym.latex(hx) + r\"\\right\\}\" +\n",
    "    \"  +   \" + r\"\\left\\{\" + sym.latex(steady_B) + \" \\, \" + sym.latex(hu) + r\"\\right\\}\" + r\"\\\\\" +\n",
    "    \" &+   \" + r\"\\left\\{\" + sym.latex(hat_A)    + \" \\, \" + sym.latex(X) + r\"\\right\\}\" + \n",
    "    \"  +   \" + r\"\\left\\{\" + sym.latex(hat_B)    + \" \\, \" + sym.latex(U) + r\"\\right\\}\" + r\"\\\\\" +\n",
    "    \" &+   \" + r\"\\left\\{\" + sym.latex(hat_A)    + \" \\, \" + sym.latex(hx) + r\"\\right\\}\" +\n",
    "    \"  +   \" + r\"\\left\\{\" + sym.latex(hat_B)    + \" \\, \" + sym.latex(hu) + r\"\\right\\}\"\n",
    ") + r\"\\end{aligned}\"\n",
    "display(Math(X_eq))\n",
    "\n",
    "print(\"We can use the great common denominator to get the small-signal duty-cycle term out of the A and B matrices:\")\n",
    "\n",
    "def gcd(matrix):\n",
    "    return sym.gcd(tuple(matrix)).expand()\n",
    "\n",
    "def simplify_gcd(matrix):\n",
    "    return (matrix / gcd(matrix)).expand()\n",
    "\n",
    "def check_in(matrix, elem):\n",
    "    return elem in [*matrix.atoms(sym.Function), *matrix.atoms(sym.Symbol)]\n",
    "\n",
    "X_eq = r\"\\begin{aligned}\" + sym.latex(eq_dx.rhs) + (\n",
    "    \" &{}= \" + r\"\\left\\{\" + sym.latex(steady_A) + \" \\, \" + sym.latex(X) + r\"\\right\\}\" + \n",
    "    \"  +   \" + r\"\\left\\{\" + sym.latex(steady_B) + \" \\, \" + sym.latex(U) + r\"\\right\\}\" + r\"\\\\\" +\n",
    "    \" &+   \" + r\"\\left\\{\" + sym.latex(steady_A) + \" \\, \" + sym.latex(hx) + r\"\\right\\}\" +\n",
    "    \"  +   \" + r\"\\left\\{\" + sym.latex(steady_B) + \" \\, \" + sym.latex(hu) + r\"\\right\\}\" + r\"\\\\\" +\n",
    "    \" &+   \" + r\"\\left\\{\" + sym.latex(simplify_gcd(hat_A)) + \" \\, \" + sym.latex(X)  + sym.latex(gcd(hat_A)) + r\"\\right\\}\" + \n",
    "    \"  +   \" + r\"\\left\\{\" + sym.latex(simplify_gcd(hat_B)) + \" \\, \" + sym.latex(U)  + sym.latex(gcd(hat_B)) + r\"\\right\\}\" + r\"\\\\\" +\n",
    "    \" &+   \" + r\"\\left\\{\" + sym.latex(simplify_gcd(hat_A)) + \" \\, \" + sym.latex(hx) + sym.latex(gcd(hat_A)) + r\"\\right\\}\" +\n",
    "    \"  +   \" + r\"\\left\\{\" + sym.latex(simplify_gcd(hat_B)) + \" \\, \" + sym.latex(hu) + sym.latex(gcd(hat_B)) + r\"\\right\\}\"\n",
    ") + r\"\\end{aligned}\"\n",
    "display(Math(X_eq))\n",
    "\n",
    "print(\"Now, by Recapitulating that:\")\n",
    "\n",
    "display(Math(\n",
    "    \"\\dot{X} = 0 = A X + B U = \" + sym.latex(steady_A) + \" \\, \" + sym.latex(X) + \" + \" + sym.latex(steady_B) + \" \\, \" + sym.latex(U)\n",
    "))\n",
    "\n",
    "print(\"And also that the multiplication of two small signals can be considered as zero:\")\n",
    "\n",
    "X_eq = r\"\\begin{aligned}\" + sym.latex(eq_dx.rhs) + (\n",
    "    \" &{}= \" + r\"\\xcancel{\" + r\"\\left\\{\" + sym.latex(steady_A) + \" \\, \" + sym.latex(X) + r\"\\right\\}\" + \n",
    "    \"  +   \" + r\"\\left\\{\" + sym.latex(steady_B) + \" \\, \" + sym.latex(U) + r\"\\right\\}\" + r\"}\" + r\"\\\\\" +\n",
    "    \" &+   \" + r\"\\left\\{\" + sym.latex(steady_A) + \" \\, \" + sym.latex(hx) + r\"\\right\\}\" +\n",
    "    \"  +   \" + r\"\\left\\{\" + sym.latex(steady_B) + \" \\, \" + sym.latex(hu) + r\"\\right\\}\" + r\"\\\\\" +\n",
    "    \" &+   \" + r\"\\left\\{\" + sym.latex(simplify_gcd(hat_A)) + \" \\, \" + sym.latex(X)  + sym.latex(gcd(hat_A)) + r\"\\right\\}\" + \n",
    "    \"  +   \" + r\"\\left\\{\" + sym.latex(simplify_gcd(hat_B)) + \" \\, \" + sym.latex(U)  + sym.latex(gcd(hat_B)) + r\"\\right\\}\" + r\"\\\\\" +\n",
    "    \" &+   \" + r\"\\xcancel{\" + r\"\\left\\{\" + sym.latex(simplify_gcd(hat_A)) + \" \\, \" + sym.latex(hx) + sym.latex(gcd(hat_A)) + r\"\\right\\}\" +\n",
    "    \"  +   \" + r\"\\left\\{\" + sym.latex(simplify_gcd(hat_B)) + \" \\, \" + sym.latex(hu) + sym.latex(gcd(hat_B)) + r\"\\right\\}\" + r\"}\"\n",
    ") + r\"\\end{aligned}\"\n",
    "display(Math(X_eq))\n",
    "\n",
    "print(\"Now we group the states X and inputs U:\")\n",
    "\n",
    "X_eq = r\"\\begin{aligned}\" + sym.latex(eq_dx.rhs) + (\n",
    "    \" &+   \" + r\"\\left\\{\" + sym.latex(steady_A) + \" \\, \" + sym.latex(hx) + r\"\\right\\}\" +\n",
    "    \"  +   \" + r\"\\left\\{\" + sym.latex(steady_B) + \" \\, \" + sym.latex(hu) + r\"\\right\\}\" + r\"\\\\\" +\n",
    "    \" &+   \" + r\"\\left\\{\" + sym.latex(simplify_gcd(hat_A)) + \" \\, \" + sym.latex(X)  + sym.latex(gcd(hat_A)) + r\"\\right\\}\" + \n",
    "    \"  +   \" + r\"\\left\\{\" + sym.latex(simplify_gcd(hat_B)) + \" \\, \" + sym.latex(U)  + sym.latex(gcd(hat_B)) + r\"\\right\\}\" + r\"\\\\\"\n",
    ") + r\"\\end{aligned}\"\n",
    "display(Math(X_eq))\n",
    "\n",
    "X_eq = r\"\\begin{aligned}\" + sym.latex(eq_dx.rhs) + (\n",
    "    \" &+   \" + r\"\\left\\{\" + sym.latex(steady_A) + \" \\, \" + sym.latex(hx) + r\"\\right\\}\" +\n",
    "    \"  +   \" + r\"\\left\\{\" + sym.latex(steady_B) + \" \\, \" + sym.latex(hu) + \" + \" + sym.latex(simplify_gcd(hat_A) * X) + \" \\, \" + sym.latex(gcd(hat_A)) + r\"\\right\\}\"\n",
    ") + r\"\\end{aligned}\"\n",
    "display(Math(X_eq))\n",
    "\n",
    "print(\"To get the canonical form, we can rearange the outputs as:\")\n",
    "\n",
    "_hu = sym.Matrix([\n",
    "    [hu],\n",
    "    [gcd(hat_A) * sym.Matrix([1])]\n",
    "])\n",
    "\n",
    "_B = sym.Matrix([\n",
    "    [steady_B, simplify_gcd(hat_A) * X],\n",
    "])\n",
    "\n",
    "X_eq = r\"\\begin{aligned}\" + sym.latex(eq_dx.rhs) + (\n",
    "    \" &+   \" + sym.latex(steady_A) + \" \\, \" + sym.latex(hx) +\n",
    "    \"  +   \" + sym.latex(_B) + \" \\, \" + sym.latex(_hu)\n",
    ") + r\"\\end{aligned}\"\n",
    "display(Math(X_eq))"
   ]
  },
  {
   "cell_type": "code",
   "execution_count": 390,
   "id": "1bdacb4b",
   "metadata": {},
   "outputs": [
    {
     "data": {
      "text/latex": [
       "$\\displaystyle \\left[\\begin{matrix}\\frac{d}{d t} \\hat{i}_{L}{\\left(t \\right)}\\\\\\frac{d}{d t} \\hat{v}_{C}{\\left(t \\right)}\\end{matrix}\\right] = \\left[\\begin{matrix}0 & \\frac{\\Delta - 1}{L}\\\\\\frac{1 - \\Delta}{C} & - \\frac{1}{C R}\\end{matrix}\\right] \\, \\left[\\begin{matrix}\\hat{i}_{L}{\\left(t \\right)}\\\\\\hat{v}_{C}{\\left(t \\right)}\\end{matrix}\\right] + \\left[\\begin{matrix}\\frac{1}{L} & 0 & \\frac{V_{C}}{L}\\\\0 & - \\frac{1}{C} & - \\frac{I_{L}}{C}\\end{matrix}\\right] \\, \\left[\\begin{matrix}\\hat{v}_{i}{\\left(t \\right)}\\\\\\hat{i}_{o}{\\left(t \\right)}\\\\\\hat{d}{\\left(t \\right)}\\end{matrix}\\right]$"
      ],
      "text/plain": [
       "<IPython.core.display.Math object>"
      ]
     },
     "metadata": {},
     "output_type": "display_data"
    },
    {
     "data": {
      "text/latex": [
       "$\\displaystyle \\left[\\begin{matrix}\\hat{v}_{o}{\\left(t \\right)}\\\\\\hat{i}_{i}{\\left(t \\right)}\\end{matrix}\\right] = \\left[\\begin{matrix}0 & 1\\\\1 & 0\\end{matrix}\\right] \\, \\left[\\begin{matrix}\\hat{i}_{L}{\\left(t \\right)}\\\\\\hat{v}_{C}{\\left(t \\right)}\\end{matrix}\\right] + \\left[\\begin{matrix}0 & 0 & 0\\\\0 & 0 & 0\\end{matrix}\\right] \\, \\left[\\begin{matrix}\\hat{v}_{i}{\\left(t \\right)}\\\\\\hat{i}_{o}{\\left(t \\right)}\\\\\\hat{d}{\\left(t \\right)}\\end{matrix}\\right]$"
      ],
      "text/plain": [
       "<IPython.core.display.Math object>"
      ]
     },
     "metadata": {},
     "output_type": "display_data"
    }
   ],
   "source": [
    "def get_averaged_small_signal_model(A1, B1, C1, D1, A2, B2, C2, D2, X, Y, U, Dt, hx, hy, hu, hdt):\n",
    "    A = A1 * (Dt) + A2 * (1 - Dt)\n",
    "    C = C1 * (Dt) + C2 * (1 - Dt)\n",
    "    \n",
    "    hu = sym.Matrix([\n",
    "        [hu],\n",
    "        [hdt]\n",
    "    ])\n",
    "\n",
    "    B = sym.Matrix([\n",
    "        [B1 * Dt + B2 * (1 - Dt), (A1 - A2) * X + (B1 - B2) * U],\n",
    "    ])\n",
    "\n",
    "    D = sym.Matrix([\n",
    "        [D1 * Dt + D2 * (1 - Dt), (C1 - C2) * X + (D1 - D2) * U],\n",
    "    ])\n",
    "\n",
    "    return A, B, C, D, hx, hy, hu\n",
    "\n",
    "print_ss(*get_averaged_small_signal_model(A1, B1, C1, D1, A2, B2, C2, D2, X, Y, U, Dt, hx, hy, hu, hdt))"
   ]
  }
 ],
 "metadata": {
  "kernelspec": {
   "display_name": "Python 3 (ipykernel)",
   "language": "python",
   "name": "python3"
  },
  "language_info": {
   "codemirror_mode": {
    "name": "ipython",
    "version": 3
   },
   "file_extension": ".py",
   "mimetype": "text/x-python",
   "name": "python",
   "nbconvert_exporter": "python",
   "pygments_lexer": "ipython3",
   "version": "3.9.10"
  }
 },
 "nbformat": 4,
 "nbformat_minor": 5
}
